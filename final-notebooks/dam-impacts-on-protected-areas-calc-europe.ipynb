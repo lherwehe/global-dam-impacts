{
 "cells": [
  {
   "cell_type": "markdown",
   "metadata": {},
   "source": [
    "## Europe\n",
    "This notebook contains functions that combine World Database of Protected Areas and Ramsar data for a country or continent to create a full protected areas dataset for the desired region and calculates the total length of rivers on protected lands and total area of protected lands that are affected by proposed dams by country for a desired continent. "
   ]
  },
  {
   "cell_type": "code",
   "execution_count": 1,
   "metadata": {},
   "outputs": [],
   "source": [
    "# Get Europe figshare data to work\n",
    "# See if it runs with WDPA and ramsar merged\n",
    "\n",
    "# Imports\n",
    "import warnings\n",
    "import os\n",
    "import sys\n",
    "\n",
    "import numpy as np\n",
    "import numpy.ma as ma\n",
    "import pandas as pd\n",
    "import geopandas as gpd\n",
    "\n",
    "import matplotlib.pyplot as plt\n",
    "import matplotlib.patches as mpatches\n",
    "import matplotlib.lines as mlines\n",
    "\n",
    "import seaborn as sns\n",
    "\n",
    "from geopandas import GeoDataFrame as gdf\n",
    "from geopandas import GeoSeries as gs\n",
    "from shapely.geometry import Point, Polygon\n",
    "\n",
    "import earthpy as et\n",
    "import earthpy.plot as ep\n",
    "import contextily as ctx"
   ]
  },
  {
   "cell_type": "code",
   "execution_count": 2,
   "metadata": {},
   "outputs": [],
   "source": [
    "# Check path and set working directory.\n",
    "wd_path = os.path.join(et.io.HOME, 'earth-analytics', 'data')\n",
    "if os.path.exists(wd_path):\n",
    "    os.chdir(wd_path)\n",
    "else:\n",
    "    print(\"Path does not exist\")"
   ]
  },
  {
   "cell_type": "code",
   "execution_count": 3,
   "metadata": {},
   "outputs": [
    {
     "data": {
      "text/plain": [
       "'C:\\\\Users\\\\lherwehe\\\\earth-analytics\\\\data\\\\earthpy-downloads\\\\continent-country.csv'"
      ]
     },
     "execution_count": 3,
     "metadata": {},
     "output_type": "execute_result"
    }
   ],
   "source": [
    "# Download Data stored on figshare\n",
    "# Free flowing rivers current DOR\n",
    "et.data.get_data(url=\"https://ndownloader.figshare.com/files/23273213\")\n",
    "\n",
    "# Free flowing rivers future DOR\n",
    "et.data.get_data(url=\"https://ndownloader.figshare.com/files/23273216\")\n",
    "\n",
    "# World Database of Protected Areas Europe\n",
    "et.data.get_data(url=\"https://ndownloader.figshare.com/files/23355098\")\n",
    "\n",
    "# Ramsar Sites\n",
    "et.data.get_data(url=\"https://ndownloader.figshare.com/files/22507082\")\n",
    "\n",
    "# Country boundaries\n",
    "et.data.get_data(url=\"https://ndownloader.figshare.com/files/22507058\")\n",
    "\n",
    "# Continent boundaries\n",
    "et.data.get_data(url=\"https://ndownloader.figshare.com/files/23392280\")\n",
    "\n",
    "# Continent-country csv\n",
    "et.data.get_data(url=\"https://ndownloader.figshare.com/files/23393756\")"
   ]
  },
  {
   "cell_type": "code",
   "execution_count": 4,
   "metadata": {},
   "outputs": [],
   "source": [
    "# Custon Function\n",
    "def all_pa_continent(wdpa_polys, ramsar_polys, cont_name):\n",
    "    \"\"\" This function takes WDPA polygons for a continent and global ramsar polygons and returns a multipolygon feature \n",
    "    of the World Database of Protected Areas merged with the ramsar areas for that continent.\n",
    "\n",
    "    Parameters\n",
    "    ----------\n",
    "    wdpa_polys: gdf\n",
    "        The feature with the WDPA polygons for the selected continent.\n",
    "    ramsar_polys: gdf\n",
    "        The feature with all global ramsar polygons.\n",
    "    cont_name: str\n",
    "        The name of the selected continent.\n",
    "\n",
    "    Returns\n",
    "    -------\n",
    "    wdpa_ramsar: gdf\n",
    "        A gdf of both the ramsar and WDPA protected areas for the continent.\n",
    "    \"\"\"\n",
    "    # Remove ramsar areas from WDPA dataset\n",
    "    try:\n",
    "        wdpa_polys.set_index('DESIG', inplace=True)\n",
    "        wdpa_polys.drop(\n",
    "            \"Ramsar Site, Wetland of International Importance\", inplace=True)\n",
    "    except:\n",
    "        print('No ramsar areas in WDPA dataset.')\n",
    "\n",
    "    # Remove duplicates from WDPA dataset (areas tagged by both state and local authorities)\n",
    "    try:\n",
    "        wdpa_polys.set_index('NAME', inplace=True)\n",
    "        wdpa_polys.drop_duplicates(subset=None,\n",
    "                                   keep='first', inplace=False)\n",
    "    except:\n",
    "        print('No duplicates in the WDPA dataset.')\n",
    "\n",
    "    # Pull out the ramsar areas for the continent or country and merge with protected areas\n",
    "    ramsar_polys = ramsar_polys[ramsar_polys[\"continent\"] == cont_name]\n",
    "    wdpa_ramsar = wdpa_polys.append(ramsar_polys, 'sort=True')\n",
    "\n",
    "    return wdpa_ramsar"
   ]
  },
  {
   "cell_type": "code",
   "execution_count": 5,
   "metadata": {},
   "outputs": [
    {
     "name": "stderr",
     "output_type": "stream",
     "text": [
      "C:\\Users\\lherwehe\\Miniconda3\\envs\\earth-analytics-python\\lib\\site-packages\\pyproj\\crs.py:77: FutureWarning: '+init=<authority>:<code>' syntax is deprecated. '<authority>:<code>' is the preferred initialization method.\n",
      "  return _prepare_from_string(\" \".join(pjargs))\n",
      "C:\\Users\\lherwehe\\Miniconda3\\envs\\earth-analytics-python\\lib\\site-packages\\pyproj\\crs.py:77: FutureWarning: '+init=<authority>:<code>' syntax is deprecated. '<authority>:<code>' is the preferred initialization method.\n",
      "  return _prepare_from_string(\" \".join(pjargs))\n"
     ]
    }
   ],
   "source": [
    "# Open continent & country borders & ISOs\n",
    "country_borders = gpd.read_file(os.path.join(wd_path, \"earthpy-downloads\", \"country-borders\",\n",
    "                                             \"99bfd9e7-bb42-4728-87b5-07f8c8ac631c2020328-1-1vef4ev.lu5nk.shp\"))\n",
    "\n",
    "continent_iso = pd.read_csv(os.path.join(wd_path, \"earthpy-downloads\",\n",
    "                                         \"continent-country.csv\"))\n",
    "\n",
    "continent_borders = gpd.read_file(os.path.join(wd_path, \"earthpy-downloads\", \"continent-poly\",\n",
    "                                               \"Continents.shp\"))\n",
    "\n",
    "# Reproject data to World Equidistant Cylindrical, datum WGS84, units meters, EPSG 4087\n",
    "country_borders = country_borders.to_crs('epsg:4087')\n",
    "continent_borders = continent_borders.to_crs('epsg:4087')"
   ]
  },
  {
   "cell_type": "code",
   "execution_count": 6,
   "metadata": {},
   "outputs": [],
   "source": [
    "# Open the dams csv files with pandas\n",
    "fname = os.path.join(\"earthpy-downloads\", \"future_dams_2015.csv\")\n",
    "df = pd.read_csv(fname)\n",
    "\n",
    "# Covert the pandas dataframe to a shapefile for plotting\n",
    "# Set output path for shp\n",
    "dams_path = os.path.join('earthpy-downloads')\n",
    "if not os.path.exists(dams_path):\n",
    "    os.mkdir(dams_path)\n",
    "\n",
    "# Define the geometry for the points\n",
    "geometry = [Point(xy) for xy in zip(df.Lon_Cleaned, df.LAT_cleaned)]\n",
    "crs = {'init': 'epsg:4326'}\n",
    "geo_df = gdf(df, crs=crs, geometry=geometry)\n",
    "geo_df.to_file(driver='ESRI Shapefile', filename=os.path.join(\n",
    "    dams_path, 'proposed_dams.shp'))\n",
    "\n",
    "# Open the proposed dams shapefile with geopandas\n",
    "dams_all = gpd.read_file(os.path.join(dams_path, \"proposed_dams.shp\"))"
   ]
  },
  {
   "cell_type": "code",
   "execution_count": 7,
   "metadata": {},
   "outputs": [
    {
     "name": "stderr",
     "output_type": "stream",
     "text": [
      "C:\\Users\\lherwehe\\Miniconda3\\envs\\earth-analytics-python\\lib\\site-packages\\pyproj\\crs.py:77: FutureWarning: '+init=<authority>:<code>' syntax is deprecated. '<authority>:<code>' is the preferred initialization method.\n",
      "  return _prepare_from_string(\" \".join(pjargs))\n"
     ]
    }
   ],
   "source": [
    "# Open ramsar areas\n",
    "ramsar_polys = gpd.read_file(os.path.join(\n",
    "    \"earthpy-downloads\", \"ramsar-site-data\", \"ramsar-boundaries\",\n",
    "    \"features_publishedPolygon.shp\"))\n",
    "\n",
    "# Rename ramsar columns to match WDPA\n",
    "try:\n",
    "    ramsar_polys = ramsar_polys.rename(\n",
    "        columns={\"iso3\": \"PARENT_ISO\", \"officialna\": \"NAME\", \"area_off\": \"Shape_Area\"})\n",
    "except:\n",
    "    print('Ramsar column names already match WDPA dataset.')\n",
    "\n",
    "# Merge continent names with ramsar data for analyzing by continent\n",
    "ramsar_polys = pd.merge(ramsar_polys, continent_iso,\n",
    "                        left_on='PARENT_ISO', right_on='ISO3')\n",
    "\n",
    "# Data cleaning - take only necessary ramsar columns\n",
    "ramsar_polys = ramsar_polys[['NAME', 'PARENT_ISO',\n",
    "                             'Shape_Area', 'continent', 'geometry']]\n",
    "\n",
    "# Reproject ramsar data to  World Equidistant Cylindrical, datum WGS84, units meters, EPSG 4087\n",
    "ramsar_polys = ramsar_polys.to_crs('epsg:4087')"
   ]
  },
  {
   "cell_type": "code",
   "execution_count": 8,
   "metadata": {},
   "outputs": [],
   "source": [
    "# Open current DOR shapefiles\n",
    "dor_0to5 = gpd.read_file(os.path.join(wd_path,\n",
    "                                      \"earthpy-downloads\", \"DOR_Binned\", \"DOR_0to5.shp\"))\n",
    "dor_5to10 = gpd.read_file(os.path.join(wd_path,\n",
    "                                       \"earthpy-downloads\", \"DOR_Binned\", \"DOR_5to10.shp\"))\n",
    "dor_10to15 = gpd.read_file(os.path.join(wd_path,\n",
    "                                        \"earthpy-downloads\", \"DOR_Binned\", \"DOR_10to15.shp\"))\n",
    "dor_15to20 = gpd.read_file(os.path.join(wd_path,\n",
    "                                        \"earthpy-downloads\", \"DOR_Binned\", \"DOR_15to20.shp\"))\n",
    "dor_over20 = gpd.read_file(os.path.join(wd_path,\n",
    "                                        \"earthpy-downloads\", \"DOR_Binned\", \"DOR_over20.shp\"))"
   ]
  },
  {
   "cell_type": "code",
   "execution_count": 9,
   "metadata": {},
   "outputs": [],
   "source": [
    "# Get all current rivers in selected continent\n",
    "all_rivers_0to5_eur = dor_0to5[dor_0to5['CONTINENT'] == \"Europe\"]\n",
    "all_rivers_5to10_eur = dor_5to10[dor_5to10['CONTINENT'] == \"Europe\"]\n",
    "all_rivers_10to15_eur = dor_10to15[dor_10to15['CONTINENT'] == \"Europe\"]\n",
    "all_rivers_15to20_eur = dor_15to20[dor_15to20['CONTINENT'] == \"Europe\"]\n",
    "all_rivers_over20_eur = dor_over20[dor_over20['CONTINENT'] == \"Europe\"]"
   ]
  },
  {
   "cell_type": "code",
   "execution_count": 10,
   "metadata": {
    "scrolled": true
   },
   "outputs": [
    {
     "name": "stderr",
     "output_type": "stream",
     "text": [
      "C:\\Users\\lherwehe\\Miniconda3\\envs\\earth-analytics-python\\lib\\site-packages\\ipykernel_launcher.py:8: SettingWithCopyWarning: \n",
      "A value is trying to be set on a copy of a slice from a DataFrame.\n",
      "Try using .loc[row_indexer,col_indexer] = value instead\n",
      "\n",
      "See the caveats in the documentation: http://pandas.pydata.org/pandas-docs/stable/user_guide/indexing.html#returning-a-view-versus-a-copy\n",
      "  \n",
      "C:\\Users\\lherwehe\\Miniconda3\\envs\\earth-analytics-python\\lib\\site-packages\\pyproj\\crs.py:77: FutureWarning: '+init=<authority>:<code>' syntax is deprecated. '<authority>:<code>' is the preferred initialization method.\n",
      "  return _prepare_from_string(\" \".join(pjargs))\n",
      "C:\\Users\\lherwehe\\Miniconda3\\envs\\earth-analytics-python\\lib\\site-packages\\ipykernel_launcher.py:8: SettingWithCopyWarning: \n",
      "A value is trying to be set on a copy of a slice from a DataFrame.\n",
      "Try using .loc[row_indexer,col_indexer] = value instead\n",
      "\n",
      "See the caveats in the documentation: http://pandas.pydata.org/pandas-docs/stable/user_guide/indexing.html#returning-a-view-versus-a-copy\n",
      "  \n",
      "C:\\Users\\lherwehe\\Miniconda3\\envs\\earth-analytics-python\\lib\\site-packages\\pyproj\\crs.py:77: FutureWarning: '+init=<authority>:<code>' syntax is deprecated. '<authority>:<code>' is the preferred initialization method.\n",
      "  return _prepare_from_string(\" \".join(pjargs))\n",
      "C:\\Users\\lherwehe\\Miniconda3\\envs\\earth-analytics-python\\lib\\site-packages\\ipykernel_launcher.py:8: SettingWithCopyWarning: \n",
      "A value is trying to be set on a copy of a slice from a DataFrame.\n",
      "Try using .loc[row_indexer,col_indexer] = value instead\n",
      "\n",
      "See the caveats in the documentation: http://pandas.pydata.org/pandas-docs/stable/user_guide/indexing.html#returning-a-view-versus-a-copy\n",
      "  \n",
      "C:\\Users\\lherwehe\\Miniconda3\\envs\\earth-analytics-python\\lib\\site-packages\\pyproj\\crs.py:77: FutureWarning: '+init=<authority>:<code>' syntax is deprecated. '<authority>:<code>' is the preferred initialization method.\n",
      "  return _prepare_from_string(\" \".join(pjargs))\n",
      "C:\\Users\\lherwehe\\Miniconda3\\envs\\earth-analytics-python\\lib\\site-packages\\ipykernel_launcher.py:8: SettingWithCopyWarning: \n",
      "A value is trying to be set on a copy of a slice from a DataFrame.\n",
      "Try using .loc[row_indexer,col_indexer] = value instead\n",
      "\n",
      "See the caveats in the documentation: http://pandas.pydata.org/pandas-docs/stable/user_guide/indexing.html#returning-a-view-versus-a-copy\n",
      "  \n",
      "C:\\Users\\lherwehe\\Miniconda3\\envs\\earth-analytics-python\\lib\\site-packages\\pyproj\\crs.py:77: FutureWarning: '+init=<authority>:<code>' syntax is deprecated. '<authority>:<code>' is the preferred initialization method.\n",
      "  return _prepare_from_string(\" \".join(pjargs))\n",
      "C:\\Users\\lherwehe\\Miniconda3\\envs\\earth-analytics-python\\lib\\site-packages\\ipykernel_launcher.py:8: SettingWithCopyWarning: \n",
      "A value is trying to be set on a copy of a slice from a DataFrame.\n",
      "Try using .loc[row_indexer,col_indexer] = value instead\n",
      "\n",
      "See the caveats in the documentation: http://pandas.pydata.org/pandas-docs/stable/user_guide/indexing.html#returning-a-view-versus-a-copy\n",
      "  \n",
      "C:\\Users\\lherwehe\\Miniconda3\\envs\\earth-analytics-python\\lib\\site-packages\\pyproj\\crs.py:77: FutureWarning: '+init=<authority>:<code>' syntax is deprecated. '<authority>:<code>' is the preferred initialization method.\n",
      "  return _prepare_from_string(\" \".join(pjargs))\n"
     ]
    }
   ],
   "source": [
    "# For loop to (1) calculating difference in DOR between planned and current, (2) pulling only rivers with class > 3,\n",
    "# (3) projecting rivers, (4) buffer by 1/100 km to become polys for overlay fuction, (5) pull only needed columns\n",
    "\n",
    "gdf_list = [all_rivers_0to5_eur, all_rivers_5to10_eur, all_rivers_10to15_eur, all_rivers_15to20_eur, all_rivers_over20_eur]\n",
    "river_list_prj = []\n",
    "\n",
    "for shp in gdf_list:\n",
    "    shp['DOR_DIFF'] = shp['DOR_PLA'] - shp['DOR']\n",
    "    shp = shp[shp.RIV_CLASS >= 3] \n",
    "    shp = shp.to_crs('epsg:4087')\n",
    "    shp['geometry'] = shp.buffer(100)\n",
    "    shp = shp[['LENGTH_KM', 'RIV_ORD', 'RIV_CLASS', 'CONTINENT',\n",
    "               'ISO_NAME', 'BAS_NAME', 'DOR', 'DOR_PLA', 'DOR_DIFF', 'Shape_Leng', 'geometry']]\n",
    "    river_list_prj.append(shp)\n",
    "\n",
    "# Re-assign names based on list index\n",
    "dor_0to5 = river_list_prj[0]\n",
    "dor_5to10 = river_list_prj[1]\n",
    "dor_10to15 = river_list_prj[2]\n",
    "dor_15to20 = river_list_prj[3]\n",
    "dor_over20 = river_list_prj[4]\n",
    "\n",
    "# Concatanate all rivers gdfs for easier analysis later\n",
    "all_rivers = pd.concat([dor_0to5, dor_5to10, dor_10to15,\n",
    "                        dor_15to20, dor_over20], axis=0)\n",
    "\n",
    "# Remove rivers that have DOR_DIFF of 0\n",
    "all_rivers_lg = all_rivers[all_rivers.DOR_DIFF > 0]"
   ]
  },
  {
   "cell_type": "code",
   "execution_count": 11,
   "metadata": {},
   "outputs": [
    {
     "name": "stderr",
     "output_type": "stream",
     "text": [
      "C:\\Users\\lherwehe\\Miniconda3\\envs\\earth-analytics-python\\lib\\site-packages\\pyproj\\crs.py:77: FutureWarning: '+init=<authority>:<code>' syntax is deprecated. '<authority>:<code>' is the preferred initialization method.\n",
      "  return _prepare_from_string(\" \".join(pjargs))\n"
     ]
    }
   ],
   "source": [
    "# Analyze Europe\n",
    "# Open WDPA polygons\n",
    "wdpa_eur_polys = gpd.read_file(os.path.join(wd_path,\n",
    "                                           \"earthpy-downloads\", \"WDPA_Europe\", \"WDPA_Europe.shp\"))\n",
    "\n",
    "# Data cleaning - remove polygons with no area\n",
    "wdpa_eur_polys = wdpa_eur_polys[wdpa_eur_polys.geometry != None]\n",
    "\n",
    "# Merge continent names with WDPA data for analyzing by continent\n",
    "wdpa_eur_polys = pd.merge(wdpa_eur_polys, continent_iso,\n",
    "                        left_on='PARENT_ISO', right_on='ISO3')\n",
    "\n",
    "# Take only the columns we need\n",
    "wdpa_eur_polys = wdpa_eur_polys[[\n",
    "    'NAME', 'DESIG', 'PARENT_ISO', 'Shape_Area', 'continent', 'geometry']]\n",
    "\n",
    "# Reproject WDPA data\n",
    "wdpa_eur_polys = wdpa_eur_polys.to_crs('epsg:4087')\n",
    "\n",
    "# # Get the combined WDPA & ramsar areas for selected continent\n",
    "# wdpa_ramsar_sa = all_pa_continent(wdpa_eur_polys, ramsar_polys, \"Europe\")"
   ]
  },
  {
   "cell_type": "code",
   "execution_count": 12,
   "metadata": {},
   "outputs": [],
   "source": [
    "# Getting river length affected\n",
    "# Overlay current rivers on protected areas for selected continent to get ONLY rivers the overlap PAs\n",
    "river_overlap_eur = gpd.overlay(\n",
    "    wdpa_eur_polys, all_rivers_lg, how='intersection')"
   ]
  },
  {
   "cell_type": "code",
   "execution_count": null,
   "metadata": {},
   "outputs": [],
   "source": [
    "# Getting protected areas affected\n",
    "# Overlay projected rivers on pas for selected continent to get ONLY pas that overlap rivers\n",
    "pa_overlap_eur = gpd.overlay(\n",
    "    river_overlap_eur, wdpa_eur_polys, how='intersection')"
   ]
  },
  {
   "cell_type": "code",
   "execution_count": null,
   "metadata": {},
   "outputs": [],
   "source": [
    "# Get a list of countries in each continent for calculating lengths/areas by country later\n",
    "eur_countries = continent_iso[continent_iso.continent == 'Europe']\n",
    "\n",
    "# Create empty lists\n",
    "country_sums = []\n",
    "area_sums = []\n",
    "countries = []\n",
    "\n",
    "# Sum up the total river length affected by country in the continent\n",
    "for country in eur_countries.ISO3:\n",
    "    country_sums.append((\n",
    "        river_overlap_eur.loc[river_overlap_eur['PARENT_ISO'] == country, 'LENGTH_KM'].sum()).round(0))\n",
    "    area_sums.append((\n",
    "        pa_overlap_eur.loc[pa_overlap_eur['PARENT_ISO_1'] == country, 'Shape_Area_1'].sum()).round(0))\n",
    "    countries.append(country)\n",
    "\n",
    " # Create a pandas dataframe of lengths and areas affected\n",
    "eur_output = pd.DataFrame(list(zip(countries, country_sums, area_sums)), columns=[\n",
    "                           'Country', 'Affected_KM', 'Affected_Area'])"
   ]
  },
  {
   "cell_type": "code",
   "execution_count": null,
   "metadata": {
    "scrolled": true
   },
   "outputs": [],
   "source": [
    "# View data\n",
    "eur_output.head()"
   ]
  },
  {
   "cell_type": "code",
   "execution_count": null,
   "metadata": {},
   "outputs": [],
   "source": [
    "# Remove rows with 0 values for rivers.\n",
    "eur_affected = eur_output[eur_output.Affected_KM !=0]\n",
    "eur_affected = eur_output[eur_output.Affected_Area !=0]\n",
    "\n",
    "\n",
    "eur_affected"
   ]
  },
  {
   "cell_type": "code",
   "execution_count": null,
   "metadata": {},
   "outputs": [],
   "source": [
    "# Export to csv.\n",
    "affected_path = os.path.join(wd_path, \"eur_affected.csv\" )\n",
    "eur_affected.to_csv(affected_path)"
   ]
  },
  {
   "cell_type": "code",
   "execution_count": null,
   "metadata": {
    "scrolled": true
   },
   "outputs": [],
   "source": [
    "# Create Graph\n",
    "# use white grid plot background from seaborn\n",
    "# sns.set(font_scale=1.5, style='whitegrid')\n",
    "\n",
    "fig, ax = plt.subplots(figsize=(20, 10))\n",
    "ax.bar(eur_affected[\"Country\"],\n",
    "        eur_affected[\"Affected_KM\"], color='blue', label=\"River Length\")\n",
    "plt.legend(loc=\"upper right\")\n",
    "ax.set(title=\"Length of Potential River Reaches impacted by Future Dam Construction\\nEurope\",\n",
    "       xlabel=\"Country\", ylabel=\"Kilometers\")\n",
    "ax.text(0.5, -0.1,\n",
    "        \"Data Source: Free Flowing Rivers Database\",\n",
    "        size=12,\n",
    "        ha=\"center\",\n",
    "        transform=ax.transAxes)"
   ]
  },
  {
   "cell_type": "code",
   "execution_count": null,
   "metadata": {},
   "outputs": [],
   "source": [
    "# Create Graph\n",
    "#use white grid plot background from seaborn\n",
    "# sns.set(font_scale=1.5, style='whitegrid')\n",
    "\n",
    "fig, ax = plt.subplots(figsize=(20, 10))\n",
    "ax.bar(eur_affected[\"Country\"],\n",
    "        eur_affected[\"Affected_Area\"], color='orange', label=\"Land Area\")\n",
    "plt.legend(loc=\"upper right\")\n",
    "ax.set(title=\"Potential Protected Areas impacted by Future Dam Construction\\nEurope\",\n",
    "       xlabel=\"Country\", ylabel=\"Square Meters\")\n",
    "ax.set_yscale(\"log\")\n",
    "ax.text(0.5, -0.1,\n",
    "        \"Data Source: World Database of Protected Areas and Ramsar Site Database\",\n",
    "        size=12,\n",
    "        ha=\"center\",\n",
    "        transform=ax.transAxes)"
   ]
  },
  {
   "cell_type": "code",
   "execution_count": null,
   "metadata": {},
   "outputs": [],
   "source": [
    "# Turn europe dams from point to poly by buffering so that overlay function works\n",
    "dams_all = dams_all.set_geometry('geometry').to_crs('epsg:4087')\n",
    "dams_all['geometry'] = dams_all.buffer(50000)\n",
    "              \n",
    "# Overlay proposed dams on protected areas for selected continent to get ONLY dams that overlap PAs\n",
    "europe_dams = gpd.overlay(\n",
    "    dams_all, wdpa_ramsar_europe, how='intersection')\n",
    "\n",
    "# Overlay  protected areas on proposed dams for selected continent to get ONLY pas with dams\n",
    "europe_pas_affected = gpd.overlay(\n",
    "    wdpa_ramsar_europe, dams_all, how='intersection')"
   ]
  },
  {
   "cell_type": "code",
   "execution_count": null,
   "metadata": {},
   "outputs": [],
   "source": [
    "# Export to csv.\n",
    "affected_dams_path = os.path.join(wd_path, \"europe_dams_affected.csv\" )\n",
    "europe_dams.to_csv(affected_dams_path)\n",
    "\n",
    "# Export to csv.\n",
    "affected_pas_path = os.path.join(wd_path, \"europe_pas_affected.csv\" )\n",
    "europe_pas_affected.to_csv(affected_pas_path)"
   ]
  },
  {
   "cell_type": "code",
   "execution_count": null,
   "metadata": {},
   "outputs": [],
   "source": [
    "pas_with_dams_path = os.path.join(wd_path, \"europe_pas_with_dams.csv\" )\n",
    "europe_pas_with_dams = gpd.sjoin(dams_all, wdpa_ramsar_europe, how=\"inner\", op='intersects')\n",
    "europe_pas_with_dams.to_csv(pas_with_dams_path)"
   ]
  },
  {
   "cell_type": "code",
   "execution_count": null,
   "metadata": {},
   "outputs": [],
   "source": [
    "# Get continent border for plotting\n",
    "eur_border = continent_borders[continent_borders['CONTINENT'] == \"Europe\"]\n",
    "\n",
    "# Buffer rivers for nicer map\n",
    "dor_0to5 = dor_0to5.buffer(5000)\n",
    "dor_5to10 = dor_5to10.buffer(5000)\n",
    "dor_10to15 = dor_10to15.buffer(5000)\n",
    "dor_15to20 = dor_15to20.buffer(5000)\n",
    "dor_over20 = dor_over20.buffer(5000)"
   ]
  },
  {
   "cell_type": "code",
   "execution_count": null,
   "metadata": {},
   "outputs": [],
   "source": [
    "# Get continent dams for plotting\n",
    "eur_dams = dams_all[dams_all['Continent'] == \"Europe\"]\n",
    "\n",
    "eur_dams = eur_dams.to_crs('epsg:4087')"
   ]
  },
  {
   "cell_type": "code",
   "execution_count": null,
   "metadata": {},
   "outputs": [],
   "source": [
    "# Plot all rivers and all protected areas for selected continent\n",
    "# Create legend\n",
    "black_line = mlines.Line2D([], [], color='black', label='Country Border')\n",
    "blue_line = mlines.Line2D([], [], color='blue', label='0 to 5')\n",
    "yellow_line = mlines.Line2D([], [], color='yellow', label='5 to 10')\n",
    "orange_line = mlines.Line2D([], [], color='orange', label='10 to 15')\n",
    "red_line = mlines.Line2D([], [], color='red', label='15 to 20')\n",
    "magenta_line = mlines.Line2D([], [], color='magenta', label='20 plus')\n",
    "lightgreen_patch = mpatches.Patch(color='lightgreen', label='Protected Area')\n",
    "black_dot = mlines.Line2D([], [], color='white', marker='o',\n",
    "                          markerfacecolor='gray', label='Proposed Dam Site')\n",
    "\n",
    "fig, ax = plt.subplots(figsize=(15, 15))\n",
    "eur_border.plot(ax=ax, color=\"none\",  edgecolor=\"black\", linewidth=2)\n",
    "wdpa_eur_polys.plot(ax=ax, color=\"lightgreen\", edgecolor='none')\n",
    "dor_0to5.plot(ax=ax,\n",
    "              color='blue', edgecolor='none')\n",
    "dor_5to10.plot(ax=ax,\n",
    "               color='yellow', edgecolor='none')\n",
    "dor_10to15.plot(ax=ax,\n",
    "                color='orange', edgecolor='none')\n",
    "dor_15to20.plot(ax=ax,\n",
    "                color='red', edgecolor='none')\n",
    "dor_over20.plot(ax=ax,\n",
    "                color='magenta', edgecolor='none')\n",
    "eur_dams.plot(ax=ax,\n",
    "                   color='gray', markersize=50)\n",
    "ctx.add_basemap(ax, crs='epsg:4087')\n",
    "ax.set_title(\n",
    "    'All Protected Areas, Proposed Dams, And Large Rivers (Class > 2)\\n by Degree of Regulation in Europe', size=20)\n",
    "ax.set_axis_off()\n",
    "ax.legend(handles=[black_line, blue_line, yellow_line, orange_line, red_line, magenta_line, lightgreen_patch, black_dot],\n",
    "          fontsize=15,\n",
    "          frameon=True,\n",
    "          loc=('lower right'),\n",
    "          title=\"LEGEND\")"
   ]
  },
  {
   "cell_type": "code",
   "execution_count": null,
   "metadata": {},
   "outputs": [],
   "source": [
    "fig, ax1 = plt.subplots(figsize=(20, 10))\n",
    "\n",
    "plt.title(\"Potential River Reaches and Protected Areas in Europe\\nImpacted by Future Dam Construction\", size=30)\n",
    "\n",
    "ax1.set_xlabel('Country')\n",
    "ax1.set_ylabel('Area (sq. meters)', color='orange')\n",
    "ax1.bar(eur_affected[\"Country\"],\n",
    "        eur_affected[\"Affected_Area\"], color='orange', label=\"Land Area\")\n",
    "ax1.tick_params(axis='y')\n",
    "\n",
    "ax1.grid(False)\n",
    "\n",
    "ax2 = ax1.twinx()\n",
    "\n",
    "\n",
    "ax2.set_ylabel ('Length (km)', color='blue')\n",
    "ax2.plot(eur_affected[\"Country\"],\n",
    "        eur_affected[\"Affected_KM\"], marker='o', color='blue', markersize=10, linewidth=5, label=\"River Length\")\n",
    "ax2.tick_params(axis='y')\n",
    "\n",
    "ax2.grid(False)\n",
    "\n",
    "ax2.text(0.5, -0.2,\n",
    "        \"Data Source: Free Flowing Rivers Database, World Database of Protected Areas, and Ramsar Site Database\",\n",
    "        size=12,\n",
    "        ha=\"center\",\n",
    "        transform=ax.transAxes)\n",
    "\n",
    "plt.show()\n",
    "\n"
   ]
  },
  {
   "cell_type": "code",
   "execution_count": null,
   "metadata": {},
   "outputs": [],
   "source": []
  },
  {
   "cell_type": "code",
   "execution_count": null,
   "metadata": {},
   "outputs": [],
   "source": []
  }
 ],
 "metadata": {
  "kernelspec": {
   "display_name": "Python 3",
   "language": "python",
   "name": "python3"
  },
  "language_info": {
   "codemirror_mode": {
    "name": "ipython",
    "version": 3
   },
   "file_extension": ".py",
   "mimetype": "text/x-python",
   "name": "python",
   "nbconvert_exporter": "python",
   "pygments_lexer": "ipython3",
   "version": "3.7.6"
  },
  "toc": {
   "base_numbering": 1,
   "nav_menu": {},
   "number_sections": true,
   "sideBar": true,
   "skip_h1_title": false,
   "title_cell": "Table of Contents",
   "title_sidebar": "Contents",
   "toc_cell": false,
   "toc_position": {},
   "toc_section_display": true,
   "toc_window_display": false
  }
 },
 "nbformat": 4,
 "nbformat_minor": 4
}
