{
 "cells": [
  {
   "cell_type": "markdown",
   "metadata": {},
   "source": [
    "picking one key finding of your project that you want to explain or demonstrate (i.e. you do not have to include everything that you did as part of your project)\n",
    "choosing your title and visualizations based on those that help explain/demonstrate the key finding\n",
    "describing how you completed the project in plain/layperson language (i.e. you can tell your readers how to find your code and more details about your project on GitHub)\n",
    "Your blog post should:\n",
    "\n",
    "have a concise, catchy title that stands alone (i.e. if I read nothing else, I could still know the main point of the blog post)\n",
    "contain at least two key visualizations created/imported via code (e.g. plots, images) that support your story\n",
    "plots should have titles, axes labels, and captions (either in the plot or as Markdown)\n",
    "additional images that are not created via code are also allowed (but be sure to include them in your upload to CANVAS)\n",
    "do not include any visualizations or outputs that you will not explain in your text\n",
    "contain between 500-700 words total\n",
    "include subtitles for each section using Markdown\n",
    "at least 3 paragraphs of no more than 200 words each (i.e. make this blog readable and visually attractive through organization of words and visualizations - break up text with images)\n",
    "subsections should cover the following:\n",
    "what did you find? (begin with 1-2 clear statements about the main finding/point you want to share in this post)\n",
    "why does it matter? (significance to general audience - why should they care about the finding?)\n",
    "how did you find this out? (very brief explanation in plain/layperson terms)\n",
    "final discussion (i.e. other implications or potential applications of findings, future work)\n",
    "how can the reader find out more? (include link to GitHub repository)\n",
    "hide code cells in Jupyter Notebook by adding the word \"hide\" to the tag window for the cell \n",
    "open the tag window using View > Cell Toolbar > Tags \n",
    "Note: this action only hides the cell upon publication on the website; you will still be able to see the code cell in Jupyter Notebook\n",
    "cite any references that are included in your text"
   ]
  },
  {
   "cell_type": "markdown",
   "metadata": {},
   "source": [
    "# A Big Dam Problem:\n",
    "## Identifying critical landscapes around the globe that will be affected by future dam construction.\n",
    "Contributors: Lauren Herwehe, University of Colorado, Boulder and Stephanie L. Shepherd, Auburn University"
   ]
  },
  {
   "cell_type": "markdown",
   "metadata": {},
   "source": [
    "## We should give a dam\n",
    "\n",
    "(I will add/edit text to this over the next few days so it is different than where we were.\n",
    "Dam construction over the past century has dramatically altered our landscapes, threatening ecosystems and endangered species around the world. Thousands of new dams are proposed globally that would affect protected areas such as National Parks, UNESCO World Heritage Sites, and Ramsar Sites. While data is publicly available, there is scant understanding of how these proposed dams will affect these critical protected areas.\n",
    "\n",
    "Many scientists believe we may be on the cusp of the sixth Mass Extinction in Earth’s history, due to human impact on the environment (1). Since the early 20th Century the majority of major rivers around the globe have been impounded or diverted to harness the power of water for energy production, transportation, flood control, water storage, and even recreation (2, 3). Although we as a society benefit greatly from the construction of these engineering marvels, dams have a dramatic impact on river ecosystems. A dam drastically slows water flow, trapping sediment, fish, and water upstream as the reservoir fills flooding the river valley. As a result both the river habitats and the riparian habitats are lost. Downstream of the dam water flow is strictly controlled, often eliminating the natural annual cycles of flooding that supplied sediment and nutrients to the floodplain. When water flow exceeds the storage capacity of the dam, the water released often causes catastrophic flooding downstream. Even as the water rushes out the necessary sediment, nutrients, and organisms are for the most part still trapped behind the dam. Finally dam construction alters the aesthetics of beautiful landscapes around the world and threatening freshwater and terrestrial species (4).\n",
    "\n",
    "This project is being undertaken in collaboration with the World Wildlife Foundation for the purpose of identifying critical habitats that will potentially be impacted by future dam construction."
   ]
  },
  {
   "cell_type": "raw",
   "metadata": {},
   "source": [
    "## Gathering the Data\n",
    "Give a general over view of what we did and describe the data sets.  Maybe even provide links to original data sources?  We could also include a small map that illustrates each data set. \n",
    "### World River Network\n",
    "### Current and Future Dam Database\n",
    "### World Database of Protected Areas\n",
    "### Bringing it all together (maybe come up with something more exciting)"
   ]
  },
  {
   "cell_type": "markdown",
   "metadata": {},
   "source": [
    "## Asking the Right Questions"
   ]
  },
  {
   "cell_type": "code",
   "execution_count": 1,
   "metadata": {},
   "outputs": [],
   "source": [
    "# figure 1 code, this will be hidden\n",
    "# possibly a map of one continent showing protected areas and river network, current DOR, and maybe dam locations\n",
    "# or a graph showing how many river km fall into each DOR bin current and future"
   ]
  },
  {
   "cell_type": "code",
   "execution_count": 2,
   "metadata": {},
   "outputs": [],
   "source": [
    "# figure 2 code, this will be hidden\n",
    "# maybe a figure or map showing the protected areas that will be potentially impacted.  \n",
    "# third figure quantifying the area of potential impacts... we can brainstorm about this.  "
   ]
  },
  {
   "cell_type": "markdown",
   "metadata": {},
   "source": [
    "## What We Have Learned"
   ]
  },
  {
   "cell_type": "markdown",
   "metadata": {},
   "source": [
    "### For more information about this project, including the full code and data analysis, go to https://github.com/stephlshep/global-dam-impacts."
   ]
  },
  {
   "cell_type": "markdown",
   "metadata": {},
   "source": [
    "## References\n",
    "1. Lehner, B., C. Reidy Liermann, C. Revenga, C. Vörösmarty, B. Fekete, P. Crouzet, P. Döll, M. Endejan, K. Frenken, J. Magome, C. Nilsson, J.C. Robertson, R. Rodel, N. Sindorf, and D. Wisser. 2011. High-resolution mapping of the world’s reservoirs and dams for sustainable river-flow management. Frontiers in Ecology and the Environment 9 (9): 494-502.\n",
    "\n",
    "2. Mulligan, M., van Soesbergen, A., Saenz, L. 2020. GOODD, a global dataset of more than 38,000 georeferenced dams. Scientific Data, 7(31). https://doi.org/10.1038/s41597-020-0362-5\n",
    "\n",
    "3. Zarfl, C., Lumsdom, A. E., Berlekamp, J., Tydecks, L., Tockner, K. 2014. A global boom in hydropower dam construction. Aquatic Sciences 77. https://doi.org/10.1007/s00027-014-0377-0"
   ]
  },
  {
   "cell_type": "markdown",
   "metadata": {},
   "source": [
    "## Contact:\n",
    "Lauren Herwehe, Education Program Manager\n",
    "Earth Lab\n",
    "University of Colorado\n",
    "Boulder, CO\n",
    "Lauren.Herwehe@colorado.edu\n",
    "\n",
    "Stephanie L. Shepherd, Assistant Professor\n",
    "Dept. of Geosciences\n",
    "Auburn University\n",
    "Auburn, AL\n",
    "slshepherd@auburn.edu"
   ]
  },
  {
   "cell_type": "code",
   "execution_count": null,
   "metadata": {},
   "outputs": [],
   "source": []
  }
 ],
 "metadata": {
  "kernelspec": {
   "display_name": "Python 3",
   "language": "python",
   "name": "python3"
  },
  "language_info": {
   "codemirror_mode": {
    "name": "ipython",
    "version": 3
   },
   "file_extension": ".py",
   "mimetype": "text/x-python",
   "name": "python",
   "nbconvert_exporter": "python",
   "pygments_lexer": "ipython3",
   "version": "3.7.3"
  },
  "toc": {
   "base_numbering": 1,
   "nav_menu": {},
   "number_sections": true,
   "sideBar": true,
   "skip_h1_title": true,
   "title_cell": "Table of Contents",
   "title_sidebar": "Contents",
   "toc_cell": false,
   "toc_position": {
    "height": "calc(100% - 180px)",
    "left": "10px",
    "top": "150px",
    "width": "245.6px"
   },
   "toc_section_display": true,
   "toc_window_display": true
  }
 },
 "nbformat": 4,
 "nbformat_minor": 4
}
