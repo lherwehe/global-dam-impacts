{
 "cells": [
  {
   "cell_type": "markdown",
   "metadata": {},
   "source": [
    "# A Big Dam Problem:\n",
    "# Identifying critical landscapes around the globe that will be affected by future dam construction.\n",
    "Contributors: Lauren Herwehe, University of Colorado, Boulder and Stephanie L. Shepherd, Auburn University"
   ]
  },
  {
   "cell_type": "markdown",
   "metadata": {},
   "source": [
    "## We should give a dam\n",
    "\n",
    "Many scientists believe we may be on the cusp of the sixth Mass Extinction in Earth’s history, due to human impact on the environment (1). Since the early 20th Century the majority of major rivers around the globe have been impounded or diverted to harness the power of water for energy production, transportation, flood control, water storage, and even recreation (2, 3). Although we as a society benefit greatly from the construction of these engineering marvels, dams have a dramatic impact on river ecosystems. A dam drastically slows water flow, trapping sediment, fish, and water upstream as the reservoir fills flooding the river valley. As a result both the river habitats and the riparian habitats are lost. Downstream of the dam water flow is strictly controlled, often eliminating the natural annual cycles of flooding that supplied sediment and nutrients to the floodplain. When water flow exceeds the storage capacity of the dam, the water released often causes catastrophic flooding downstream. Even as the water rushes out the necessary sediment, nutrients, and organisms are for the most part still trapped behind the dam. Finally dam construction alters the aesthetics of beautiful landscapes around the world and threatening freshwater and terrestrial species (4). Thousands of new dams are proposed globally that will potential impact protected areas such as National Parks, UNESCO World Heritage Sites, and Ramsar Sites adjacent to rivers.\n",
    "\n",
    "This project is being undertaken in collaboration with the World Wildlife Foundation for the purpose of identifying critical habitats that will potentially be impacted by future dam construction through the analysis of existing datasets. "
   ]
  },
  {
   "cell_type": "markdown",
   "metadata": {},
   "source": [
    "## Gathering the Data\n",
    "Various organizations and researchers have gathered information about our river around the globe that we have leveraged to identify protected areas that are downstream from proposed dams.  \n",
    "\n",
    "### Free Flowing Rivers\n",
    "This database contains hydrographic information for all major rivers across the globe. Of particular interest for this work is the Degree of Regulation (DOR) was calculated for each river reach in the database.  DOR is an index that represents how water storage behind a dam will impact the flow of river reaches downstream.  It is reported as a percent, where 0% is a free flowing river and 100% is a reach where the flow is completely altered by a dam.\n",
    "\n",
    "https://www.nature.com/articles/s41586-019-1379-9\n",
    "https://figshare.com/articles/Mapping_the_world_s_free-flowing_rivers_data_set_and_technical_documentation/7688801\n",
    "\n",
    "### Current and Future Dam Database\n",
    "Global Dam Watch, a collaboration between NGOs and academic institutions, has created and made publicly available three databases that document current and proposed large dams (capacity of >....)across the globe. http://globaldamwatch.org/data/\n",
    "* Global Georeferenced Database of Dams (GOODD)\n",
    "* Global Reservoir and Dam Database (GRanD)\n",
    "* Future Hydropower Reservoirs and Dams (FHReD)\n",
    "\n",
    "### World Database of Protected Areas\n",
    "The World Database of Protected Areas (WDPA) is a global database of terrestrial and marine protected areas developed and curated by the International Union for the Conservation of Nature and the United Nations Environmental Programme. https://www.iucn.org/theme/protected-areas/our-work/quality-and-effectiveness/world-database-protected-areas-wdpa"
   ]
  },
  {
   "cell_type": "markdown",
   "metadata": {},
   "source": [
    "## Asking the Right Questions\n",
    "\n",
    "Pulling all these data sets together allows us to start asking where are new dams going to be built? And how many protected areas are close enough to these dams to potentially be affected? \n",
    "\n",
    "First we overlayed the river reaches (a segment of river channel between two junctions with other channels) that currently have some Degree of Regulation (DOR) with the protected areas (Figure 1). In order to compare the magnitude of regulation the data was divided into group - < 5%, 5-10%, 10-15%, 15-20%, and over 20%.  All river reaches with a DOR of 0% are excluded from these images. Then we hid all river reaches that did not correspond with a protected area (Figure 2). Finally we subtracted the current DOR value from the proposed dam DOR value to find out which areas would have an increase in regulation (Figure 3).\n",
    "\n",
    "(We need to expand our explanation and possibly use fewer maps to illustrate the process, depends on what we decide to communicate. Do we want to include more of the process of data analysis, i.e. how to make the sausage)"
   ]
  },
  {
   "cell_type": "code",
   "execution_count": 1,
   "metadata": {
    "tags": [
     "hide"
    ]
   },
   "outputs": [],
   "source": [
    "# Imports\n",
    "import warnings\n",
    "import os\n",
    "import sys\n",
    "\n",
    "import numpy as np\n",
    "import numpy.ma as ma\n",
    "import pandas as pd\n",
    "import geopandas as gpd\n",
    "\n",
    "import seaborn as sns\n",
    "\n",
    "import matplotlib.pyplot as plt\n",
    "import matplotlib.patches as mpatches\n",
    "import matplotlib.lines as mlines\n",
    "\n",
    "import earthpy as et\n",
    "import earthpy.plot as ep\n",
    "import contextily as ctx"
   ]
  },
  {
   "cell_type": "code",
   "execution_count": 2,
   "metadata": {
    "tags": [
     "hide"
    ]
   },
   "outputs": [],
   "source": [
    "# Check path and set working directory.\n",
    "wd_path = os.path.join(et.io.HOME, 'earth-analytics', 'data')\n",
    "if os.path.exists(wd_path):\n",
    "    os.chdir(wd_path)\n",
    "else:\n",
    "    print(\"Path does not exist\")"
   ]
  },
  {
   "cell_type": "code",
   "execution_count": 3,
   "metadata": {
    "tags": [
     "hide"
    ]
   },
   "outputs": [
    {
     "data": {
      "text/plain": [
       "'C:\\\\Users\\\\lherwehe\\\\earth-analytics\\\\data\\\\earthpy-downloads\\\\continent-country.csv'"
      ]
     },
     "execution_count": 3,
     "metadata": {},
     "output_type": "execute_result"
    }
   ],
   "source": [
    "# Download Data stored on figshare\n",
    "# Free flowing rivers current DOR\n",
    "et.data.get_data(url=\"https://ndownloader.figshare.com/files/23273213\")\n",
    "\n",
    "# Free flowing rivers future DOR\n",
    "et.data.get_data(url=\"https://ndownloader.figshare.com/files/23273216\")\n",
    "\n",
    "# World Database of Protected Areas - split by continent\n",
    "et.data.get_data(url=\"https://ndownloader.figshare.com/files/23354894\")\n",
    "\n",
    "# Ramsar Sites\n",
    "et.data.get_data(url=\"https://ndownloader.figshare.com/files/22507082\")\n",
    "\n",
    "# Country boundaries\n",
    "et.data.get_data(url=\"https://ndownloader.figshare.com/files/22507058\")\n",
    "\n",
    "# Continent boundaries\n",
    "et.data.get_data(url=\"https://ndownloader.figshare.com/files/23392280\")\n",
    "\n",
    "# Continent-country csv\n",
    "et.data.get_data(url=\"https://ndownloader.figshare.com/files/23393756\")"
   ]
  },
  {
   "cell_type": "code",
   "execution_count": 4,
   "metadata": {
    "tags": [
     "hide"
    ]
   },
   "outputs": [],
   "source": [
    "# Custon Function\n",
    "def all_pa_country(wdpa_polys, ramsar_polys, country_name):\n",
    "    \"\"\" This function takes a country name, WDPA polygons, and Ramsar Polygons, and returns a multipolygon feature of \n",
    "    the World Database of Protected Areas merged with the ramsar areas for that country.\n",
    "\n",
    "    Parameters\n",
    "    ----------\n",
    "    country_name: str\n",
    "        Three letter country code for the country to be analyzed.\n",
    "    wdpa_polys: gdf\n",
    "        The feature with the WDPA polygons for the selected country.\n",
    "    ramsar_polys: gdf\n",
    "        The feature with the ramsar polygons for the selected country.\n",
    "\n",
    "    Returns\n",
    "    -------\n",
    "    wdpa_ramsar: gdf\n",
    "        A gdf of both the ramsar and WDPA protected areas for the country.\n",
    "    \"\"\"\n",
    "    # Remove ramsar areas from WDPA dataset\n",
    "    try:\n",
    "        wdpa_polys.set_index('DESIG', inplace=True)\n",
    "        wdpa_polys.drop(\n",
    "            \"Ramsar Site, Wetland of International Importance\", inplace=True)\n",
    "    except:\n",
    "        print('No ramsar areas in WDPA dataset.')\n",
    "\n",
    "    # Remove duplicates from WDPA dataset (areas tagged by both state and local authorities)\n",
    "    try:\n",
    "        wdpa_polys.set_index('NAME', inplace=True)\n",
    "        wdpa_polys.drop_duplicates(subset=None,\n",
    "                                   keep='first', inplace=False)\n",
    "    except:\n",
    "        print('No duplicates in the WDPA dataset.')\n",
    "\n",
    "    # Pull out the ramsar areas for the continent or country and merge with protected areas\n",
    "    ramsar_polys = ramsar_polys[ramsar_polys[\"PARENT_ISO\"] == country_name]\n",
    "    wdpa_polys = wdpa_polys[wdpa_polys[\"PARENT_ISO\"] == country_name]\n",
    "    wdpa_ramsar = wdpa_polys.append(ramsar_polys, 'sort=True')\n",
    "\n",
    "    return wdpa_ramsar"
   ]
  },
  {
   "cell_type": "code",
   "execution_count": 5,
   "metadata": {
    "tags": [
     "hide"
    ]
   },
   "outputs": [],
   "source": [
    "# Custon Function\n",
    "def all_pa_continent(wdpa_polys, ramsar_polys, cont_name):\n",
    "    \"\"\" This function takes WDPA polygons for a continent and global ramsar polygons and returns a multipolygon feature \n",
    "    of the World Database of Protected Areas merged with the ramsar areas for that continent.\n",
    "\n",
    "    Parameters\n",
    "    ----------\n",
    "    wdpa_polys: gdf\n",
    "        The feature with the WDPA polygons for the selected continent.\n",
    "    ramsar_polys: gdf\n",
    "        The feature with all global ramsar polygons.\n",
    "    cont_name: str\n",
    "        The name of the selected continent.\n",
    "\n",
    "    Returns\n",
    "    -------\n",
    "    wdpa_ramsar: gdf\n",
    "        A gdf of both the ramsar and WDPA protected areas for the continent.\n",
    "    \"\"\"\n",
    "    # Remove ramsar areas from WDPA dataset\n",
    "    try:\n",
    "        wdpa_polys.set_index('DESIG', inplace=True)\n",
    "        wdpa_polys.drop(\n",
    "            \"Ramsar Site, Wetland of International Importance\", inplace=True)\n",
    "    except:\n",
    "        print('No ramsar areas in WDPA dataset.')\n",
    "\n",
    "    # Remove duplicates from WDPA dataset (areas tagged by both state and local authorities)\n",
    "    try:\n",
    "        wdpa_polys.set_index('NAME', inplace=True)\n",
    "        wdpa_polys.drop_duplicates(subset=None,\n",
    "                                   keep='first', inplace=False)\n",
    "    except:\n",
    "        print('No duplicates in the WDPA dataset.')\n",
    "\n",
    "    # Pull out the ramsar areas for the continent or country and merge with protected areas\n",
    "    ramsar_polys = ramsar_polys[ramsar_polys[\"continent\"] == cont_name]\n",
    "    wdpa_ramsar = wdpa_polys.append(ramsar_polys, 'sort=True')\n",
    "\n",
    "    return wdpa_ramsar"
   ]
  },
  {
   "cell_type": "code",
   "execution_count": 6,
   "metadata": {
    "tags": [
     "hide"
    ]
   },
   "outputs": [
    {
     "name": "stderr",
     "output_type": "stream",
     "text": [
      "C:\\Users\\lherwehe\\Miniconda3\\envs\\earth-analytics-python\\lib\\site-packages\\pyproj\\crs.py:77: FutureWarning: '+init=<authority>:<code>' syntax is deprecated. '<authority>:<code>' is the preferred initialization method.\n",
      "  return _prepare_from_string(\" \".join(pjargs))\n",
      "C:\\Users\\lherwehe\\Miniconda3\\envs\\earth-analytics-python\\lib\\site-packages\\pyproj\\crs.py:77: FutureWarning: '+init=<authority>:<code>' syntax is deprecated. '<authority>:<code>' is the preferred initialization method.\n",
      "  return _prepare_from_string(\" \".join(pjargs))\n"
     ]
    }
   ],
   "source": [
    "# Open continent & country borders & ISOs\n",
    "country_borders = gpd.read_file(os.path.join(wd_path, \"earthpy-downloads\", \"country-borders\",\n",
    "                                             \"99bfd9e7-bb42-4728-87b5-07f8c8ac631c2020328-1-1vef4ev.lu5nk.shp\"))\n",
    "\n",
    "continent_iso = pd.read_csv(os.path.join(wd_path, \"earthpy-downloads\",\n",
    "                                         \"continent-country.csv\"))\n",
    "\n",
    "continent_borders = gpd.read_file(os.path.join(wd_path, \"earthpy-downloads\", \"continent-poly\",\n",
    "                                               \"Continents.shp\"))\n",
    "\n",
    "# Reproject data to World Equidistant Cylindrical, datum WGS84, units meters, EPSG 4087\n",
    "country_borders = country_borders.to_crs('epsg:4087')\n",
    "continent_borders = continent_borders.to_crs('epsg:4087')"
   ]
  },
  {
   "cell_type": "code",
   "execution_count": 7,
   "metadata": {
    "tags": [
     "hide"
    ]
   },
   "outputs": [
    {
     "name": "stderr",
     "output_type": "stream",
     "text": [
      "C:\\Users\\lherwehe\\Miniconda3\\envs\\earth-analytics-python\\lib\\site-packages\\pyproj\\crs.py:77: FutureWarning: '+init=<authority>:<code>' syntax is deprecated. '<authority>:<code>' is the preferred initialization method.\n",
      "  return _prepare_from_string(\" \".join(pjargs))\n"
     ]
    }
   ],
   "source": [
    "# Open ramsar areas\n",
    "ramsar_polys = gpd.read_file(os.path.join(\n",
    "    \"earthpy-downloads\", \"ramsar-site-data\", \"ramsar-boundaries\",\n",
    "    \"features_publishedPolygon.shp\"))\n",
    "\n",
    "# Rename ramsar columns to match WDPA\n",
    "try:\n",
    "    ramsar_polys = ramsar_polys.rename(\n",
    "        columns={\"iso3\": \"PARENT_ISO\", \"officialna\": \"NAME\", \"area_off\": \"Shape_Area\"})\n",
    "except:\n",
    "    print('Ramsar column names already match WDPA dataset.')\n",
    "\n",
    "# Merge continent names with ramsar data for analyzing by continent\n",
    "ramsar_polys = pd.merge(ramsar_polys, continent_iso,\n",
    "                        left_on='PARENT_ISO', right_on='ISO3')\n",
    "\n",
    "# Data cleaning - take only necessary ramsar columns\n",
    "ramsar_polys = ramsar_polys[['NAME', 'PARENT_ISO',\n",
    "                             'Shape_Area', 'continent', 'geometry']]\n",
    "\n",
    "# Reproject ramsar data to  World Equidistant Cylindrical, datum WGS84, units meters, EPSG 4087\n",
    "ramsar_polys = ramsar_polys.to_crs('epsg:4087')"
   ]
  },
  {
   "cell_type": "code",
   "execution_count": null,
   "metadata": {
    "tags": [
     "hide"
    ]
   },
   "outputs": [],
   "source": [
    "# Open current DOR shapefiles\n",
    "dor_0to5 = gpd.read_file(os.path.join(wd_path,\n",
    "                                      \"earthpy-downloads\", \"DOR_Binned\", \"DOR_0to5.shp\"))\n",
    "dor_5to10 = gpd.read_file(os.path.join(wd_path,\n",
    "                                       \"earthpy-downloads\", \"DOR_Binned\", \"DOR_5to10.shp\"))\n",
    "dor_10to15 = gpd.read_file(os.path.join(wd_path,\n",
    "                                        \"earthpy-downloads\", \"DOR_Binned\", \"DOR_10to15.shp\"))\n",
    "dor_15to20 = gpd.read_file(os.path.join(wd_path,\n",
    "                                        \"earthpy-downloads\", \"DOR_Binned\", \"DOR_15to20.shp\"))\n",
    "dor_over20 = gpd.read_file(os.path.join(wd_path,\n",
    "                                        \"earthpy-downloads\", \"DOR_Binned\", \"DOR_over20.shp\"))\n",
    "\n",
    "# Open planned DOR shapefiles\n",
    "dor_pla_0to5 = gpd.read_file(os.path.join(wd_path,\n",
    "                                          \"earthpy-downloads\", \"DOR_PLA_Binned\", \"DOR_PLA_0to5.shp\"))\n",
    "dor_pla_5to10 = gpd.read_file(os.path.join(wd_path,\n",
    "                                           \"earthpy-downloads\", \"DOR_PLA_Binned\", \"DOR_PLA_5to10.shp\"))\n",
    "dor_pla_10to15 = gpd.read_file(os.path.join(wd_path,\n",
    "                                            \"earthpy-downloads\", \"DOR_PLA_Binned\", \"DOR_PLA_10to15.shp\"))\n",
    "dor_pla_15to20 = gpd.read_file(os.path.join(wd_path,\n",
    "                                            \"earthpy-downloads\", \"DOR_PLA_Binned\", \"DOR_PLA_15to20.shp\"))\n",
    "dor_pla_over20 = gpd.read_file(os.path.join(wd_path,\n",
    "                                            \"earthpy-downloads\", \"DOR_PLA_Binned\", \"DOR_PLA_over20.shp\"))"
   ]
  },
  {
   "cell_type": "code",
   "execution_count": null,
   "metadata": {
    "tags": [
     "hide"
    ]
   },
   "outputs": [],
   "source": [
    "# Get all current rivers in selected continent\n",
    "all_rivers_0to5_africa = dor_0to5[dor_0to5['CONTINENT'] == \"Africa\"]\n",
    "all_rivers_5to10_africa = dor_5to10[dor_5to10['CONTINENT'] == \"Africa\"]\n",
    "all_rivers_10to15_africa = dor_10to15[dor_10to15['CONTINENT'] == \"Africa\"]\n",
    "all_rivers_15to20_africa = dor_15to20[dor_15to20['CONTINENT'] == \"Africa\"]\n",
    "all_rivers_over20_africa = dor_over20[dor_over20['CONTINENT'] == \"Africa\"]\n",
    "\n",
    "# Get all current rivers in selected continent\n",
    "all_rivers_pla_0to5_africa = dor_pla_0to5[dor_pla_0to5['CONTINENT'] == \"Africa\"]\n",
    "all_rivers_pla_5to10_africa = dor_pla_5to10[dor_pla_5to10['CONTINENT'] == \"Africa\"]\n",
    "all_rivers_pla_10to15_africa = dor_pla_10to15[dor_pla_10to15['CONTINENT'] == \"Africa\"]\n",
    "all_rivers_pla_15to20_africa = dor_pla_15to20[dor_pla_15to20['CONTINENT'] == \"Africa\"]\n",
    "all_rivers_pla_over20_africa = dor_pla_over20[dor_pla_over20['CONTINENT'] == \"Africa\"]\n",
    "\n",
    "# Get all current rivers in selected country\n",
    "all_rivers_0to5_bfa = dor_0to5[dor_0to5['ISO_NAME'] == \"Burkina Faso\"]\n",
    "all_rivers_5to10_bfa = dor_5to10[dor_5to10['ISO_NAME'] == \"Burkina Faso\"]\n",
    "all_rivers_10to15_bfa = dor_10to15[dor_10to15['ISO_NAME'] == \"Burkina Faso\"]\n",
    "all_rivers_15to20_bfa = dor_15to20[dor_15to20['ISO_NAME'] == \"Burkina Faso\"]\n",
    "all_rivers_over20_bfa = dor_over20[dor_over20['ISO_NAME'] == \"Burkina Faso\"]"
   ]
  },
  {
   "cell_type": "code",
   "execution_count": null,
   "metadata": {
    "tags": [
     "hide"
    ]
   },
   "outputs": [],
   "source": [
    "# For loop to (1) calculating difference in DOR between planned and current, (2) pulling only rivers with class > 3,\n",
    "# (3) projecting rivers, (4) buffer by 1/100 km to become polys for overlay fuction, (5) pull only needed columns\n",
    "\n",
    "gdf_list = [all_rivers_0to5_africa, all_rivers_5to10_africa, all_rivers_10to15_africa, all_rivers_15to20_africa, all_rivers_over20_africa,\n",
    "            all_rivers_pla_0to5_africa, all_rivers_pla_5to10_africa, all_rivers_pla_10to15_africa, all_rivers_pla_15to20_africa, all_rivers_pla_over20_africa]\n",
    "river_list_prj = []\n",
    "\n",
    "for shp in gdf_list:\n",
    "    shp['DOR_DIFF'] = shp['DOR_PLA'] - shp['DOR']\n",
    "    shp = shp[shp.RIV_CLASS > 3]\n",
    "    shp = shp.to_crs('epsg:4087')\n",
    "    shp['geometry'] = shp.buffer(100)\n",
    "    shp = shp[['LENGTH_KM', 'RIV_ORD', 'RIV_CLASS', 'CONTINENT',\n",
    "               'ISO_NAME', 'BAS_NAME', 'DOR', 'DOR_PLA', 'DOR_DIFF', 'Shape_Leng', 'geometry']]\n",
    "    river_list_prj.append(shp)\n",
    "\n",
    "# Re-assign names based on list index\n",
    "dor_0to5 = river_list_prj[0]\n",
    "dor_5to10 = river_list_prj[1]\n",
    "dor_10to15 = river_list_prj[2]\n",
    "dor_15to20 = river_list_prj[3]\n",
    "dor_over20 = river_list_prj[4]\n",
    "\n",
    "dor_pla_0to5 = river_list_prj[5]\n",
    "dor_pla_5to10 = river_list_prj[6]\n",
    "dor_pla_10to15 = river_list_prj[7]\n",
    "dor_pla_15to20 = river_list_prj[8]\n",
    "dor_pla_over20 = river_list_prj[9]\n",
    "\n",
    "# Concatanate all rivers gdfs for easier analysis later\n",
    "all_rivers = pd.concat([dor_0to5, dor_5to10, dor_10to15,\n",
    "                        dor_15to20, dor_over20], axis=0)\n",
    "\n",
    "# Remove rivers that have DOR_DIFF of 0\n",
    "all_rivers_lg = all_rivers[all_rivers.DOR_DIFF > 0]"
   ]
  },
  {
   "cell_type": "code",
   "execution_count": null,
   "metadata": {
    "tags": [
     "hide"
    ]
   },
   "outputs": [],
   "source": [
    "# Analyze Africa\n",
    "wdpa_africa_polys = gpd.read_file(os.path.join(wd_path,\n",
    "                                               \"earthpy-downloads\", \"WDPA_Africa\", \"WDPA_Africa.shp\"))\n",
    "\n",
    "# Data cleaning - remove polygons with no area & take only the needed columns from WDPA dataset\n",
    "wdpa_africa_polys = wdpa_africa_polys[wdpa_africa_polys.geometry != None]\n",
    "\n",
    "# Merge continent africames with WDPA data for aafricalyzing by continent\n",
    "wdpa_africa_polys = pd.merge(wdpa_africa_polys, continent_iso,\n",
    "                             left_on='PARENT_ISO', right_on='ISO3')\n",
    "\n",
    "# Take only the columns we need\n",
    "wdpa_africa_polys = wdpa_africa_polys[[\n",
    "    'NAME', 'DESIG', 'PARENT_ISO', 'GIS_AREA', 'continent', 'geometry']]\n",
    "\n",
    "# Reporject WDPA data\n",
    "wdpa_africa_polys = wdpa_africa_polys.to_crs('epsg:4087')\n",
    "\n",
    "# Get the combined WDPA & ramsar areas for selected continent\n",
    "wdpa_ramsar_africa = all_pa_continent(\n",
    "    wdpa_africa_polys, ramsar_polys, \"Africa\")\n",
    "\n",
    "# Getting river length affected\n",
    "# Overlay current rivers on protected areas for selected continent to get ONLY rivers the overlap PAs\n",
    "river_overlap_africa = gpd.overlay(\n",
    "    wdpa_ramsar_africa, all_rivers_lg, how='intersection')\n",
    "\n",
    "# Getting protected areas affected\n",
    "# Overlay projected rivers on pas for selected continent to get ONLY pas that overlap rivers\n",
    "pa_overlap_africa = gpd.overlay(\n",
    "    river_overlap_africa, wdpa_ramsar_africa, how='intersection')\n",
    "\n",
    "# Get a list of countries in each continent for calculating lengths/areas by country later\n",
    "africa_countries = continent_iso[continent_iso.continent == 'Africa']\n",
    "\n",
    "# Create empty lists\n",
    "country_sums = []\n",
    "area_sums = []\n",
    "countries = []\n",
    "\n",
    "# Sum up the total river length affected by country in the continent\n",
    "for country in africa_countries.ISO3:\n",
    "    country_sums.append((\n",
    "        river_overlap_africa.loc[river_overlap_africa['PARENT_ISO'] == country, 'LENGTH_KM'].sum()).round(0))\n",
    "    area_sums.append((\n",
    "        pa_overlap_africa.loc[pa_overlap_africa['PARENT_ISO_1'] == country, 'Shape_Area_1'].sum()).round(0))\n",
    "    countries.append(country)\n",
    "\n",
    " # Create a pandas dataframe of lengths and areas affected\n",
    "africa_affected = pd.DataFrame(list(zip(countries, country_sums, area_sums)), columns=[\n",
    "    'Country', 'Affected_KM', 'Affected_Area'])\n",
    "\n",
    "africa_affected = africa_affected[africa_affected.Affected_KM != 0]"
   ]
  },
  {
   "cell_type": "code",
   "execution_count": null,
   "metadata": {
    "tags": [
     "hide"
    ]
   },
   "outputs": [],
   "source": [
    "# Get all current rivers in selected country & buffer to look nicer on map\n",
    "all_rivers_0to5_bfa = (\n",
    "    dor_0to5[dor_0to5['ISO_NAME'] == \"Burkina Faso\"]).buffer(1000)\n",
    "all_rivers_5to10_bfa = (\n",
    "    dor_5to10[dor_5to10['ISO_NAME'] == \"Burkina Faso\"]).buffer(1000)\n",
    "all_rivers_10to15_bfa = (\n",
    "    dor_10to15[dor_10to15['ISO_NAME'] == \"Burkina Faso\"]).buffer(1000)\n",
    "all_rivers_15to20_bfa = (\n",
    "    dor_15to20[dor_15to20['ISO_NAME'] == \"Burkina Faso\"]).buffer(1000)\n",
    "all_rivers_over20_bfa = (\n",
    "    dor_over20[dor_over20['ISO_NAME'] == \"Burkina Faso\"]).buffer(1000)"
   ]
  },
  {
   "cell_type": "code",
   "execution_count": null,
   "metadata": {
    "tags": [
     "hide"
    ]
   },
   "outputs": [],
   "source": [
    "# Get the combined WDPA & ramsar areas for seleced country for plotting\n",
    "wdpa_ramsar_bfa = all_pa_country(wdpa_africa_polys, ramsar_polys, 'BFA')\n",
    "\n",
    "# Overlay current rivers on protected areas for selected country & buffer to look nicer on map\n",
    "rivers_0to5_bfa = (gpd.overlay(\n",
    "    wdpa_ramsar_bfa, dor_0to5, how='intersection').buffer(1000))\n",
    "rivers_5to10_bfa = (gpd.overlay(\n",
    "    wdpa_ramsar_bfa, dor_5to10, how='intersection').buffer(1000))\n",
    "rivers_10to15_bfa = (gpd.overlay(\n",
    "    wdpa_ramsar_bfa, dor_10to15, how='intersection').buffer(1000))\n",
    "rivers_15to20_bfa = (gpd.overlay(\n",
    "    wdpa_ramsar_bfa, dor_15to20, how='intersection').buffer(1000))\n",
    "rivers_over20_bfa = (gpd.overlay(\n",
    "    wdpa_ramsar_bfa, dor_over20, how='intersection').buffer(1000))\n",
    "\n",
    "# Overlay proposed rivers on protected areas for selected country & buffer to look nicer on map\n",
    "rivers_pla_0to5_bfa = (gpd.overlay(\n",
    "    wdpa_ramsar_bfa, dor_pla_0to5, how='intersection').buffer(1000))\n",
    "rivers_pla_5to10_bfa = (gpd.overlay(\n",
    "    wdpa_ramsar_bfa, dor_pla_5to10, how='intersection').buffer(1000))\n",
    "rivers_pla_10to15_bfa = (gpd.overlay(\n",
    "    wdpa_ramsar_bfa, dor_pla_10to15, how='intersection').buffer(1000))\n",
    "rivers_pla_15to20_bfa = (gpd.overlay(\n",
    "    wdpa_ramsar_bfa, dor_pla_15to20, how='intersection').buffer(1000))\n",
    "rivers_pla_over20_bfa = (gpd.overlay(\n",
    "    wdpa_ramsar_bfa, dor_pla_over20, how='intersection').buffer(1000))"
   ]
  },
  {
   "cell_type": "code",
   "execution_count": null,
   "metadata": {
    "tags": [
     "hide"
    ]
   },
   "outputs": [],
   "source": [
    "# Get country border for plotting\n",
    "bfa_border = country_borders[country_borders['CNTRY_NAME'] == \"Burkina Faso\"]"
   ]
  },
  {
   "cell_type": "code",
   "execution_count": null,
   "metadata": {
    "tags": [
     "hide"
    ]
   },
   "outputs": [],
   "source": [
    "# Plot all rivers and all protected areas for selected country\n",
    "# Create legend\n",
    "black_line = mlines.Line2D([], [], color='black', label='Country Border')\n",
    "blue_line = mlines.Line2D([], [], color='blue', label='0 to 5')\n",
    "yellow_line = mlines.Line2D([], [], color='yellow', label='5 to 10')\n",
    "orange_line = mlines.Line2D([], [], color='orange', label='10 to 15')\n",
    "red_line = mlines.Line2D([], [], color='red', label='15 to 20')\n",
    "magenta_line = mlines.Line2D([], [], color='magenta', label='20 plus')\n",
    "lightgreen_patch = mpatches.Patch(color='lightgreen', label='Protected Area')\n",
    "\n",
    "fig, ax = plt.subplots(figsize=(10, 10))\n",
    "wdpa_ramsar_bfa.plot(ax=ax, color=\"lightgreen\")\n",
    "all_rivers_0to5_bfa.plot(ax=ax,\n",
    "                         color='blue')\n",
    "all_rivers_5to10_bfa.plot(ax=ax,\n",
    "                          color='yellow')\n",
    "all_rivers_10to15_bfa.plot(ax=ax,\n",
    "                           color='orange')\n",
    "all_rivers_15to20_bfa.plot(ax=ax, color='red')\n",
    "all_rivers_over20_bfa.plot(ax=ax,\n",
    "                           color='magenta')\n",
    "ctx.add_basemap(ax, url=ctx.providers.Stamen.Terrain, zoom=0)\n",
    "bfa_border.plot(ax=ax, color=\"none\",  edgecolor=\"black\", linewidth=2)\n",
    "ax.set_title(\n",
    "    'Figure 1: All Protected Areas\\n And Rivers by Degree of Regulation in Burkina Faso', size=22)\n",
    "ax.set_axis_off()\n",
    "ax.legend(handles=[black_line, blue_line, yellow_line, orange_line, red_line, magenta_line, lightgreen_patch],\n",
    "          fontsize=15,\n",
    "          frameon=True,\n",
    "          loc=('lower right'), bbox_to_anchor=(1.4, .5),\n",
    "          title=\"LEGEND\")"
   ]
  },
  {
   "cell_type": "code",
   "execution_count": null,
   "metadata": {
    "tags": [
     "hide"
    ]
   },
   "outputs": [],
   "source": [
    "# Plot all current rivers and that overlap protected areas for selected country\n",
    "# Adding a title to the whole figure\n",
    "fig.suptitle(\n",
    "    \"All Current & Planned Rivers Overlapping Protected Areas \\n in Burkina Faso by Degree of Regulation (DOR)\", fontsize=22)\n",
    "\n",
    "# Defining plot space\n",
    "fig, ax1 = plt.subplots(figsize=(10, 10))\n",
    "wdpa_ramsar_bfa.plot(ax=ax1, color=\"lightgreen\")\n",
    "rivers_0to5_bfa.plot(ax=ax1,\n",
    "                     color='blue')\n",
    "rivers_5to10_bfa.plot(ax=ax1,\n",
    "                      color='yellow')\n",
    "rivers_10to15_bfa.plot(ax=ax1,\n",
    "                       color='orange')\n",
    "rivers_15to20_bfa.plot(ax=ax1, color='red')\n",
    "rivers_over20_bfa.plot(ax=ax1,\n",
    "                       color='magenta')\n",
    "ctx.add_basemap(ax1, url=ctx.providers.Stamen.Terrain, zoom=0)\n",
    "bfa_border.plot(ax=ax1, color=\"none\",  edgecolor=\"black\", linewidth=2)\n",
    "ax1.set_title(\n",
    "    'Figure 2: Current Rivers DOR', size=18)\n",
    "ax1.set_axis_off()\n",
    "\n",
    "# Plot all planned rivers and that overlap protected areas for selected country\n",
    "fig, ax2 = plt.subplots(figsize=(10, 10))\n",
    "wdpa_ramsar_bfa.plot(ax=ax2, color=\"lightgreen\")\n",
    "wdpa_ramsar_bfa.plot(ax=ax2, color=\"lightgreen\")\n",
    "rivers_pla_0to5_bfa.plot(ax=ax2,\n",
    "                         color='blue')\n",
    "rivers_pla_5to10_bfa.plot(ax=ax2,\n",
    "                          color='yellow')\n",
    "rivers_pla_10to15_bfa.plot(ax=ax2,\n",
    "                           color='orange')\n",
    "rivers_pla_15to20_bfa.plot(ax=ax2, color='red')\n",
    "rivers_pla_over20_bfa.plot(ax=ax2,\n",
    "                           color='magenta')\n",
    "ctx.add_basemap(ax2, url=ctx.providers.Stamen.Terrain, zoom=0)\n",
    "bfa_border.plot(ax=ax2, color=\"none\",  edgecolor=\"black\", linewidth=2)\n",
    "ax2.set_title(\n",
    "    'Figure 3: Planned Rivers DOR', size=18)\n",
    "ax2.set_axis_off()\n",
    "ax2.text(0.5, -0.2, \"Data Sources: Free Flowing Rivers Dataset World Database of Protected Areas Ramsar Areas\",\n",
    "         size=12, ha=\"center\", transform=ax2.transAxes)\n",
    "fig.legend(handles=[black_line, blue_line, yellow_line, orange_line, red_line, magenta_line, lightgreen_patch],\n",
    "           fontsize=15,\n",
    "           frameon=True,\n",
    "           loc='lower right', bbox_to_anchor=(1.5, 1.0),\n",
    "           title=\"LEGEND\")"
   ]
  },
  {
   "cell_type": "code",
   "execution_count": null,
   "metadata": {
    "tags": [
     "hide"
    ]
   },
   "outputs": [],
   "source": [
    "# Get continent border for plotting\n",
    "africa_border = continent_borders[continent_borders['CONTINENT'] == \"Africa\"]\n",
    "\n",
    "# Buffer rivers for nicer map\n",
    "dor_0to5 = dor_0to5.buffer(5000)\n",
    "dor_5to10 = dor_5to10.buffer(5000)\n",
    "dor_10to15 = dor_10to15.buffer(5000)\n",
    "dor_15to20 = dor_15to20.buffer(5000)\n",
    "dor_over20 = dor_over20.buffer(5000)"
   ]
  },
  {
   "cell_type": "code",
   "execution_count": null,
   "metadata": {
    "tags": [
     "hide"
    ]
   },
   "outputs": [],
   "source": [
    "# Plot all rivers and all protected areas for selected continent\n",
    "# Create legend\n",
    "black_line = mlines.Line2D([], [], color='black', label='Country Border')\n",
    "blue_line = mlines.Line2D([], [], color='blue', label='0 to 5')\n",
    "yellow_line = mlines.Line2D([], [], color='yellow', label='5 to 10')\n",
    "orange_line = mlines.Line2D([], [], color='orange', label='10 to 15')\n",
    "red_line = mlines.Line2D([], [], color='red', label='15 to 20')\n",
    "magenta_line = mlines.Line2D([], [], color='magenta', label='20 plus')\n",
    "lightgreen_patch = mpatches.Patch(color='lightgreen', label='Protected Area')\n",
    "\n",
    "fig, ax = plt.subplots(figsize=(15, 15))\n",
    "africa_border.plot(ax=ax, color=\"none\",  edgecolor=\"black\", linewidth=2)\n",
    "wdpa_ramsar_africa.plot(ax=ax, color=\"lightgreen\", edgecolor='none')\n",
    "dor_0to5.plot(ax=ax,\n",
    "              color='blue', edgecolor='none')\n",
    "dor_5to10.plot(ax=ax,\n",
    "               color='yellow', edgecolor='none')\n",
    "dor_10to15.plot(ax=ax,\n",
    "                color='orange', edgecolor='none')\n",
    "dor_15to20.plot(ax=ax,\n",
    "                color='red', edgecolor='none')\n",
    "dor_over20.plot(ax=ax,\n",
    "                color='magenta', edgecolor='none')\n",
    "ctx.add_basemap(ax, url=ctx.providers.Stamen.Terrain, zoom=0)\n",
    "ax.set_title(\n",
    "    'Figure 4: All Protected Areas\\n And Rivers by Degree of Regulation in Africa', size=20)\n",
    "ax.set_axis_off()\n",
    "ax.legend(handles=[black_line, blue_line, yellow_line, orange_line, red_line, magenta_line, lightgreen_patch],\n",
    "          fontsize=15,\n",
    "          frameon=True,\n",
    "          loc=('lower right'),\n",
    "          title=\"LEGEND\")"
   ]
  },
  {
   "cell_type": "code",
   "execution_count": null,
   "metadata": {
    "tags": [
     "hide"
    ]
   },
   "outputs": [],
   "source": [
    "# Create Graph\n",
    "# use white grid plot background from seaborn\n",
    "sns.set(font_scale=1.5, style='whitegrid')\n",
    "\n",
    "fig, ax = plt.subplots(figsize=(15, 10))\n",
    "ax.bar(africa_affected[\"Country\"],\n",
    "        africa_affected[\"Affected_KM\"], color='blue', label=\"River Length\")\n",
    "plt.legend(loc=\"upper left\")\n",
    "ax.set(title=\"Potential Protected Areas impacted by Future Dam Construction\\nAfrica\",\n",
    "       xlabel=\"Country\", ylabel=\"Kilometers\")\n",
    "ax.text(0.5, -0.1,\n",
    "        \"Data Source: fill in text here\",\n",
    "        size=12,\n",
    "        ha=\"center\",\n",
    "        transform=ax.transAxes)"
   ]
  },
  {
   "cell_type": "code",
   "execution_count": null,
   "metadata": {
    "tags": [
     "hide"
    ]
   },
   "outputs": [],
   "source": [
    "# Create Graph\n",
    "# use white grid plot background from seaborn\n",
    "sns.set(font_scale=1.5, style='whitegrid')\n",
    "\n",
    "fig, ax = plt.subplots(figsize=(15, 10))\n",
    "ax.bar(africa_affected[\"Country\"],\n",
    "        africa_affected[\"Affected_Area\"], color='orange', label=\"Land Area\")\n",
    "plt.legend(loc=\"upper left\")\n",
    "ax.set(title=\"Potential Protected Areas impacted by Future Dam Construction\\nAfrica\",\n",
    "       xlabel=\"Country\", ylabel=\"Square Meters\")\n",
    "ax.text(0.5, -0.1,\n",
    "        \"Data Source: fill in text here\",\n",
    "        size=12,\n",
    "        ha=\"center\",\n",
    "        transform=ax.transAxes)"
   ]
  },
  {
   "cell_type": "markdown",
   "metadata": {},
   "source": [
    "## What We Have Learned\n",
    "For most countries there are only be a few protected areas that will potentially be affected by future dam construction.  #### (continent) has the greatest number of planned dams resulting in an increase in DOR along ?km of rivers that may impact ??? square kilometers of protected areas."
   ]
  },
  {
   "cell_type": "markdown",
   "metadata": {},
   "source": [
    "### For more information about this project, including the full code and data analysis, go to https://github.com/stephlshep/global-dam-impacts."
   ]
  },
  {
   "cell_type": "markdown",
   "metadata": {},
   "source": [
    "## References\n",
    "1. Kolbert, E. 2014. The Sixth Extinction. New York: Henry Holt and Company. 320 p.\n",
    "2. Graf, W.L. 2001. Damage Control: Restoring the Physical Integrity of America’s Rivers in The Annals of the Association of American Geographers, 91(1), p. 1-27.\n",
    "3. Nilsson, C., Reidy, C.A., Dynesius, M., Revenga, C.. 2014. Fragmentation and Flow Regulation of the World’s Large River Systems in Science, 308(5720), p. 405-408. DOI: 10.1126/science.1107887\n",
    "4. McAllister, D.E., Craig, J.F., Davidson, N., Delany, S., Seddon, M. 2001. Biodiversity Impacts of Large Dams. International Union for Conservation of Nature and Natural Resource and the United Nations Environmental Programme Report. http://citeseerx.ist.psu.edu/viewdoc/download?doi=10.1.1.392.9398&rep=rep1&type=pdf"
   ]
  },
  {
   "cell_type": "markdown",
   "metadata": {},
   "source": [
    "## Contact:\n",
    "Lauren Herwehe, Education Program Manager\n",
    "Earth Lab\n",
    "University of Colorado\n",
    "Boulder, CO\n",
    "Lauren.Herwehe@colorado.edu\n",
    "\n",
    "Stephanie L. Shepherd, Assistant Professor\n",
    "Dept. of Geosciences\n",
    "Auburn University\n",
    "Auburn, AL\n",
    "slshepherd@auburn.edu"
   ]
  }
 ],
 "metadata": {
  "celltoolbar": "Tags",
  "kernelspec": {
   "display_name": "Python 3",
   "language": "python",
   "name": "python3"
  },
  "language_info": {
   "codemirror_mode": {
    "name": "ipython",
    "version": 3
   },
   "file_extension": ".py",
   "mimetype": "text/x-python",
   "name": "python",
   "nbconvert_exporter": "python",
   "pygments_lexer": "ipython3",
   "version": "3.7.6"
  },
  "toc": {
   "base_numbering": 1,
   "nav_menu": {},
   "number_sections": true,
   "sideBar": true,
   "skip_h1_title": false,
   "title_cell": "Table of Contents",
   "title_sidebar": "Contents",
   "toc_cell": false,
   "toc_position": {},
   "toc_section_display": true,
   "toc_window_display": false
  }
 },
 "nbformat": 4,
 "nbformat_minor": 4
}
