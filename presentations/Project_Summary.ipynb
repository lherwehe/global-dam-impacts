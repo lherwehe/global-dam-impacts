{
 "cells": [
  {
   "cell_type": "markdown",
   "metadata": {},
   "source": [
    "### Project Summary: A Big Dam Deal\n",
    "#### Identifying critical landscapes around the globe that will be affected by future dam construction.\n",
    "Lauren Herwehe, Earth Lab, University of Colorado \n",
    "Stephanie L. Shepherd, Geosciences, Auburn University"
   ]
  },
  {
   "cell_type": "markdown",
   "metadata": {},
   "source": [
    "### Relevance\n",
    "Many scientists believe we may be on the cusp of the sixth Mass Extinction in Earth’s history, due to human impact on the environment (1). Since the early 20th Century the majority of major rivers around the globe have been impounded or diverted to harness the power of water for energy production, transportation, flood control, water storage, and even recreation (2, 3). Although we as a society benefit greatly from the construction of these engineering marvels, dams have a dramatic impact on river ecosystems. A dam drastically slows water flow, trapping sediment, fish, and water upstream as the reservoir fills flooding the river valley. As a result both the river habitats and the riparian habitats are lost. Downstream of the dam water flow is strictly controlled, often eliminating the natural annual cycles of flooding that supplied sediment and nutrients to the floodplain. When water flow exceeds the storage capacity of the dam, the water released often causes catastrophic flooding downstream. Even as the water rushes out the necessary sediment, nutrients, and organisms are for the most part still trapped behind the dam. Finally dam construction alters the aesthetics of beautiful landscapes around the world and threatening freshwater and terrestrial species (4). Thousands of new dams are proposed globally that will potential impact protected areas such as National Parks, UNESCO World Heritage Sites, and Ramsar Sites adjacent to rivers.\n",
    "\n",
    "This project is being undertaken in collaboration with the World Wildlife Foundation for the purpose of identifying critical habitats that will potentially be impacted by future dam construction through the analysis of existing datasets."
   ]
  },
  {
   "cell_type": "markdown",
   "metadata": {},
   "source": [
    "### Goals\n",
    "This project aims to understand how proposed dams could affect protected areas around the globe. To do accomplish this goal we: \n",
    "* Analyze proposed dams by continent, \n",
    "* Combine Ramsar and World Database of Protected Areas datasets to create full datasets of protected areas, \n",
    "* Calculate the total length of rivers on protected lands affected by proposed dams by country.\n",
    "* Calculate the total area of protected lands affected by proposed dams by country. \n",
    "* Create data visualizations of rivers by degree of regulation paired with protected areas."
   ]
  },
  {
   "cell_type": "markdown",
   "metadata": {},
   "source": [
    "### Datasets\n",
    "#### Figshare Site\n",
    "To maximize reproducibility, all of the data used for this project is stored on Figshare. This means that you do not need to download any data prior to running the notebook, the JupyterNotbook script will download the data.\n",
    "\n",
    "* Country Boundaries\n",
    "    * url=\"https://ndownloader.figshare.com/files/22507058\"\n",
    "* Continent boundaries\n",
    "    * url=\"https://ndownloader.figshare.com/files/23392280\"\n",
    "* Country ISO3 Codes & Continents\n",
    "    * url=\"https://ndownloader.figshare.com/files/23393756\"\n",
    "* Free flowing rivers current Degree of Regulation\n",
    "    * url=\"https://ndownloader.figshare.com/files/23273213\"\n",
    "* Free flowing rivers future Degree of Regulation\n",
    "    * url=\"https://ndownloader.figshare.com/files/23273216\"\n",
    "* Future Hydropower Reservoirs and Dams (FHReD)\n",
    "    * url=\"https://ndownloader.figshare.com/files/22486157\"\n",
    "* Ramsar Sites\n",
    "    * url=\"https://ndownloader.figshare.com/files/22507082\"\n",
    "* World Database of Protected Areas - split by continent\n",
    "    * url=\"https://ndownloader.figshare.com/files/23354894\"\n",
    "    \n",
    "#### Original Data\n",
    "* Free Flowing Rivers Current & Future - https://www.nature.com/articles/s41586-019-1111-9\n",
    "    * This dataset contains a shapefile with all rivers from around the world and their current and projected degree of regulation due to proposed dams.\n",
    "* Future Hydropower Reservoirs and Dams (FHReD) - http://globaldamwatch.org/fhred/\n",
    "    * Geographic database of dams > 1MW that are planned or underconstruction.\n",
    "* GlObal geOreferenced Database of Dams (GOODD) - http://globaldamwatch.org/goodd/\n",
    "    * This dataset contains the geographic locations of dams identified from Google Earth's satellite data. \n",
    "* Global Reservoir and Dam Database (GRand) - http://globaldamwatch.org/grand/\n",
    "    * This database collates record for dams and river around the globe form multiple sources. The data set is curated by McGill University, Canada.\n",
    "* Ramsar Site Database - https://rsis.ramsar.org/)\n",
    "    * This database contains a shapefile of wetland areas of critical importance as identified under the Convention on Wetlands (1971).\n",
    "* World Database of Protected Areas (WDPA) - https://www.protectedplanet.net/\n",
    "    * This dataset contains a shapefile with protected areas from around the world."
   ]
  },
  {
   "cell_type": "markdown",
   "metadata": {},
   "source": [
    "### Methods\n",
    "\n",
    "The research question was addressed through combining the openly available datasets above and Python. Our step-by-step approach was as follows:\n",
    "1. **Combine protected areas datasets** - First we created a function that combined the two protected areas datasets: WDPA and Ramsar.\n",
    "2. **Identify large rivers with proposed dams** - Next we took the FFR dataset and subtracted the current DOR from the planned DOR for all rivers to filter for only rivers with planned dams. We also filtered to only look at large rivers to keep processing time manageable.\n",
    "3. **Identify where rivers and protected areas intersect** - Then we performed two 'overlays' with the open source GIS package Geopandas: \n",
    "    * Overlay rivers on protected areas and return only the **rivers** that intersect protected areas.\n",
    "    * Do the reverse of above to return only the **protected areas** that are intersected by rivers.\n",
    "4. **Add it all up** - Finally we summed the above data by country to get the total river length affected by country and the total protected area impacted by country.\n"
   ]
  },
  {
   "cell_type": "markdown",
   "metadata": {},
   "source": [
    "### Results\n"
   ]
  },
  {
   "cell_type": "markdown",
   "metadata": {},
   "source": [
    "### Implications"
   ]
  },
  {
   "cell_type": "markdown",
   "metadata": {},
   "source": [
    "### For more information about this project, including the full code and data analysis, see the <a href=\" https://github.com/stephlshep/global-dam-impacts\"> repository on GitHub</a>."
   ]
  },
  {
   "cell_type": "markdown",
   "metadata": {},
   "source": [
    "### References\n",
    "Lehner, B., C. Reidy Liermann, C. Revenga, C. Vörösmarty, B. Fekete, P. Crouzet, P. Döll, M. Endejan, K. Frenken, J. Magome, C. Nilsson, J.C. Robertson, R. Rodel, N. Sindorf, and D. Wisser. 2011. High-resolution mapping of the world’s reservoirs and dams for sustainable river-flow management. Frontiers in Ecology and the Environment 9 (9): 494-502.\n",
    "\n",
    "Mulligan, M., van Soesbergen, A., Saenz, L. 2020. GOODD, a global dataset of more than 38,000 georeferenced dams. Scientific Data, 7(31). https://doi.org/10.1038/s41597-020-0362-5\n",
    "\n",
    "Zarfl, C., Lumsdom, A. E., Berlekamp, J., Tydecks, L., Tockner, K. 2014. A global boom in hydropower dam construction. Aquatic Sciences 77.\n",
    "https://doi.org/10.1007/s00027-014-0377-0\n",
    "\n",
    "Kolbert, E. 2014. The Sixth Extinction. New York: Henry Holt and Company. 320 p.\n",
    "\n",
    "Graf, W.L. 2001. Damage Control: Restoring the Physical Integrity of America’s Rivers in The Annals of the Association of American Geographers, 91(1), p. 1-27.\n",
    "\n",
    "Nilsson, C., Reidy, C.A., Dynesius, M., Revenga, C.. 2014. Fragmentation and Flow Regulation of the World’s Large River Systems in Science, 308(5720), p. 405-408. DOI: 10.1126/science.1107887\n",
    "\n",
    "McAllister, D.E., Craig, J.F., Davidson, N., Delany, S., Seddon, M. 2001. Biodiversity Impacts of Large Dams. International Union for Conservation of Nature and Natural Resource and the United Nations Environmental Programme Report. http://citeseerx.ist.psu.edu/viewdoc/download?doi=10.1.1.392.9398&rep=rep1&type=pdf"
   ]
  }
 ],
 "metadata": {
  "kernelspec": {
   "display_name": "Python 3",
   "language": "python",
   "name": "python3"
  },
  "language_info": {
   "codemirror_mode": {
    "name": "ipython",
    "version": 3
   },
   "file_extension": ".py",
   "mimetype": "text/x-python",
   "name": "python",
   "nbconvert_exporter": "python",
   "pygments_lexer": "ipython3",
   "version": "3.7.3"
  },
  "toc": {
   "base_numbering": 1,
   "nav_menu": {},
   "number_sections": true,
   "sideBar": true,
   "skip_h1_title": false,
   "title_cell": "Table of Contents",
   "title_sidebar": "Contents",
   "toc_cell": false,
   "toc_position": {
    "height": "calc(100% - 180px)",
    "left": "10px",
    "top": "150px",
    "width": "221.438px"
   },
   "toc_section_display": true,
   "toc_window_display": true
  }
 },
 "nbformat": 4,
 "nbformat_minor": 4
}
