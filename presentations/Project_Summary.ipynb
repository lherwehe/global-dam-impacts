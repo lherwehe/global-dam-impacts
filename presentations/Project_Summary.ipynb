{
 "cells": [
  {
   "cell_type": "markdown",
   "metadata": {},
   "source": [
    "### Project Summary: A Big Dam Deal\n",
    "(include subtitle here, maybe in italtics)\n",
    "Lauren Herwehe, EarthLab, University of Colorado \n",
    "Stephanie L. Shepherd, Geosciences, Auburn University"
   ]
  },
  {
   "cell_type": "markdown",
   "metadata": {},
   "source": [
    "### Goals\n",
    "This project aims to understand how proposed dams could affect protected areas globally by (1) analyzing proposed dams by continent, (2) providing functions that combine protected areas datasets to create full datasets of protected areas by region, (3) calculating the difference between current and future degree of regulation for global rivers that overlap protected areas, (4) calculating the total length of rivers on protected lands and total area of protected lands that are affected by proposed dams by country, and (5) creating data visualizations of rivers by degree of regulation paired with protected areas."
   ]
  },
  {
   "cell_type": "markdown",
   "metadata": {},
   "source": [
    "### Relevance\n",
    "Dam construction over the past century has dramatically altered our landscapes, threatening ecosystems and endangered species around the world. Thousands of new dams are proposed globally that would affect protected areas such as National Parks, UNESCO World Heritage Sites, and United Nations Ramsar Sites. While data is publicly available, there is scant understanding of how these proposed dams will affect these critical protected areas. \n",
    "\n"
   ]
  },
  {
   "cell_type": "markdown",
   "metadata": {},
   "source": [
    "### Datasets\n",
    "#### Figshare Site\n",
    "To maximize reproducibility, all of the data used for this project is stored on Figshare. This means that you do not need to download any data prior to running the notebook, the JupyterNotbook script will download the data.\n",
    "\n",
    "* Free flowing rivers current Degree of Regulation\n",
    "    * url=\"https://ndownloader.figshare.com/files/23273213\"\n",
    "* Free flowing rivers future Degree of Regulation\n",
    "    * url=\"https://ndownloader.figshare.com/files/23273216\"\n",
    "* World Database of Protected Areas - split by continent\n",
    "    * url=\"https://ndownloader.figshare.com/files/23354894\"\n",
    "* Ramsar Sites\n",
    "    * url=\"https://ndownloader.figshare.com/files/22507082\"\n",
    "* Future Hydropower Reservoirs and Dams (FHReD)\n",
    "    * url=\"https://ndownloader.figshare.com/files/22486157\"\n",
    "* Country Boundaries\n",
    "    * url=\"https://ndownloader.figshare.com/files/22507058\"\n",
    "* Continent boundaries\n",
    "    * url=\"https://ndownloader.figshare.com/files/23392280\"\n",
    "* Country ISO3 codes & Continents\n",
    "    * url=\"https://ndownloader.figshare.com/files/23393756\"\n",
    "    \n",
    "#### Original Data\n",
    "* Free Flowing Rivers Current & Future - https://www.nature.com/articles/s41586-019-1111-9\n",
    "    * This dataset contains a shapefile with all rivers from around the world and their current and projected degree of regulation.\n",
    "* World Database of Protected Areas (WDPA) - https://www.protectedplanet.net/\n",
    "    * This dataset contains a shapefile with protected areas from around the world.\n",
    "* GlObal geOreferenced Database of Dams (GOODD) - http://globaldamwatch.org/goodd/\n",
    "    * This dataset contains the geographic locations of dams identified from Google Earth's satellite data. \n",
    "* Global Reservoir and Dam Database (GRand) - http://globaldamwatch.org/grand/\n",
    "    * This database collates record for dams and river around the globe form multiple sources.  The data set is curated by McGill University, Canada.\n",
    "* Future Hydropower Reservoirs and Dams (FHReD) - http://globaldamwatch.org/fhred/\n",
    "    * Geographic database of dams > 1MW that are planned or underconstruction.\n",
    "* Ramsar Site Database - https://rsis.ramsar.org/)\n",
    "    * This database contains a shapefile of wetland areas of critical importance as identified under the Convention on Wetlands (1971)."
   ]
  },
  {
   "cell_type": "markdown",
   "metadata": {},
   "source": [
    "### Methods\n",
    "\n",
    "(can we link to the notebooks that actually do the data crunching?)"
   ]
  },
  {
   "cell_type": "markdown",
   "metadata": {},
   "source": [
    "### Results"
   ]
  },
  {
   "cell_type": "markdown",
   "metadata": {},
   "source": [
    "### Implications"
   ]
  },
  {
   "cell_type": "markdown",
   "metadata": {},
   "source": [
    "### References\n",
    "Lehner, B., C. Reidy Liermann, C. Revenga, C. Vörösmarty, B. Fekete, P. Crouzet, P. Döll, M. Endejan, K. Frenken, J. Magome, C. Nilsson, J.C. Robertson, R. Rodel, N. Sindorf, and D. Wisser. 2011. High-resolution mapping of the world’s reservoirs and dams for sustainable river-flow management. Frontiers in Ecology and the Environment 9 (9): 494-502.\n",
    "\n",
    "Mulligan, M., van Soesbergen, A., Saenz, L. 2020. GOODD, a global dataset of more than 38,000 georeferenced dams. Scientific Data, 7(31). https://doi.org/10.1038/s41597-020-0362-5\n",
    "\n",
    "Zarfl, C., Lumsdom, A. E., Berlekamp, J., Tydecks, L., Tockner, K. 2014. A global boom in hydropower dam construction. Aquatic Sciences 77.\n",
    "https://doi.org/10.1007/s00027-014-0377-0\n",
    "\n",
    "Kolbert, E. 2014. The Sixth Extinction. New York: Henry Holt and Company. 320 p.\n",
    "\n",
    "Graf, W.L. 2001. Damage Control: Restoring the Physical Integrity of America’s Rivers in The Annals of the Association of American Geographers, 91(1), p. 1-27.\n",
    "\n",
    "Nilsson, C., Reidy, C.A., Dynesius, M., Revenga, C.. 2014. Fragmentation and Flow Regulation of the World’s Large River Systems in Science, 308(5720), p. 405-408. DOI: 10.1126/science.1107887\n",
    "\n",
    "McAllister, D.E., Craig, J.F., Davidson, N., Delany, S., Seddon, M. 2001. Biodiversity Impacts of Large Dams. International Union for Conservation of Nature and Natural Resource and the United Nations Environmental Programme Report. http://citeseerx.ist.psu.edu/viewdoc/download?doi=10.1.1.392.9398&rep=rep1&type=pdf"
   ]
  }
 ],
 "metadata": {
  "kernelspec": {
   "display_name": "Python 3",
   "language": "python",
   "name": "python3"
  },
  "language_info": {
   "codemirror_mode": {
    "name": "ipython",
    "version": 3
   },
   "file_extension": ".py",
   "mimetype": "text/x-python",
   "name": "python",
   "nbconvert_exporter": "python",
   "pygments_lexer": "ipython3",
   "version": "3.7.6"
  },
  "toc": {
   "base_numbering": 1,
   "nav_menu": {},
   "number_sections": true,
   "sideBar": true,
   "skip_h1_title": false,
   "title_cell": "Table of Contents",
   "title_sidebar": "Contents",
   "toc_cell": false,
   "toc_position": {
    "height": "calc(100% - 180px)",
    "left": "10px",
    "top": "150px",
    "width": "221.438px"
   },
   "toc_section_display": true,
   "toc_window_display": true
  }
 },
 "nbformat": 4,
 "nbformat_minor": 4
}
