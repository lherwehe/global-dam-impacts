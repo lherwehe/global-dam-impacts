{
 "cells": [
  {
   "cell_type": "markdown",
   "metadata": {},
   "source": [
    "## Africa\n",
    "This notebook contains functions that combine World Database of Protected Areas and Ramsar data for a country or continent to create a full protected areas dataset for the desired region and calculates the total length of rivers on protected lands and total area of protected lands that are affected by proposed dams by country for a desired continent. Below you will find the code to analyze Africa."
   ]
  },
  {
   "cell_type": "code",
   "execution_count": 1,
   "metadata": {},
   "outputs": [],
   "source": [
    "# Imports\n",
    "import warnings\n",
    "import os\n",
    "import sys\n",
    "\n",
    "import numpy as np\n",
    "import numpy.ma as ma\n",
    "import pandas as pd\n",
    "import geopandas as gpd\n",
    "\n",
    "import matplotlib.pyplot as plt\n",
    "import matplotlib.patches as mpatches\n",
    "import matplotlib.lines as mlines\n",
    "\n",
    "import seaborn as sns\n",
    "\n",
    "import earthpy as et\n",
    "import earthpy.plot as ep\n",
    "import contextily as ctx"
   ]
  },
  {
   "cell_type": "code",
   "execution_count": 2,
   "metadata": {},
   "outputs": [],
   "source": [
    "# Check path and set working directory.\n",
    "wd_path = os.path.join(et.io.HOME, 'earth-analytics', 'data')\n",
    "if os.path.exists(wd_path):\n",
    "    os.chdir(wd_path)\n",
    "else:\n",
    "    print(\"Path does not exist\")"
   ]
  },
  {
   "cell_type": "code",
   "execution_count": 3,
   "metadata": {},
   "outputs": [
    {
     "data": {
      "text/plain": [
       "'/home/jovyan/earth-analytics/data/earthpy-downloads/continent-country.csv'"
      ]
     },
     "execution_count": 3,
     "metadata": {},
     "output_type": "execute_result"
    }
   ],
   "source": [
    "# Download Data stored on figshare\n",
    "# Free flowing rivers current DOR\n",
    "et.data.get_data(url=\"https://ndownloader.figshare.com/files/23273213\")\n",
    "\n",
    "# Free flowing rivers future DOR\n",
    "et.data.get_data(url=\"https://ndownloader.figshare.com/files/23273216\")\n",
    "\n",
    "# World Database of Protected Areas Africa\n",
    "et.data.get_data(url=\"https://ndownloader.figshare.com/files/23354894\")\n",
    "\n",
    "# Ramsar Sites\n",
    "et.data.get_data(url=\"https://ndownloader.figshare.com/files/22507082\")\n",
    "\n",
    "# Country boundaries\n",
    "et.data.get_data(url=\"https://ndownloader.figshare.com/files/22507058\")\n",
    "\n",
    "# Continent boundaries\n",
    "et.data.get_data(url=\"https://ndownloader.figshare.com/files/23392280\")\n",
    "\n",
    "# Continent-country csv\n",
    "et.data.get_data(url=\"https://ndownloader.figshare.com/files/23393756\")"
   ]
  },
  {
   "cell_type": "code",
   "execution_count": 4,
   "metadata": {},
   "outputs": [],
   "source": [
    "# Custon Function\n",
    "def all_pa_continent(wdpa_polys, ramsar_polys, cont_name):\n",
    "    \"\"\" This function takes WDPA polygons for a continent and global ramsar polygons and returns a multipolygon feature \n",
    "    of the World Database of Protected Areas merged with the ramsar areas for that continent.\n",
    "\n",
    "    Parameters\n",
    "    ----------\n",
    "    wdpa_polys: gdf\n",
    "        The feature with the WDPA polygons for the selected continent.\n",
    "    ramsar_polys: gdf\n",
    "        The feature with all global ramsar polygons.\n",
    "    cont_name: str\n",
    "        The name of the selected continent.\n",
    "\n",
    "    Returns\n",
    "    -------\n",
    "    wdpa_ramsar: gdf\n",
    "        A gdf of both the ramsar and WDPA protected areas for the continent.\n",
    "    \"\"\"\n",
    "    # Remove ramsar areas from WDPA dataset\n",
    "    try:\n",
    "        wdpa_polys.set_index('DESIG', inplace=True)\n",
    "        wdpa_polys.drop(\n",
    "            \"Ramsar Site, Wetland of International Importance\", inplace=True)\n",
    "    except:\n",
    "        print('No ramsar areas in WDPA dataset.')\n",
    "\n",
    "    # Remove duplicates from WDPA dataset (areas tagged by both state and local authorities)\n",
    "    try:\n",
    "        wdpa_polys.set_index('NAME', inplace=True)\n",
    "        wdpa_polys.drop_duplicates(subset=None,\n",
    "                                   keep='first', inplace=False)\n",
    "    except:\n",
    "        print('No duplicates in the WDPA dataset.')\n",
    "\n",
    "    # Pull out the ramsar areas for the continent or country and merge with protected areas\n",
    "    ramsar_polys = ramsar_polys[ramsar_polys[\"continent\"] == cont_name]\n",
    "    wdpa_ramsar = wdpa_polys.append(ramsar_polys, 'sort=True')\n",
    "\n",
    "    return wdpa_ramsar"
   ]
  },
  {
   "cell_type": "code",
   "execution_count": 5,
   "metadata": {},
   "outputs": [],
   "source": [
    "# Open continent & country borders & ISOs\n",
    "country_borders = gpd.read_file(os.path.join(wd_path, \"earthpy-downloads\", \"country-borders\",\n",
    "                                             \"99bfd9e7-bb42-4728-87b5-07f8c8ac631c2020328-1-1vef4ev.lu5nk.shp\"))\n",
    "\n",
    "continent_iso = pd.read_csv(os.path.join(wd_path, \"earthpy-downloads\",\n",
    "                                         \"continent-country.csv\"))\n",
    "\n",
    "continent_borders = gpd.read_file(os.path.join(wd_path, \"earthpy-downloads\", \"continent-poly\",\n",
    "                                               \"Continents.shp\"))\n",
    "\n",
    "# Reproject data to World Equidistant Cylindrical, datum WGS84, units meters, EPSG 4087\n",
    "country_borders = country_borders.to_crs('epsg:4087')\n",
    "continent_borders = continent_borders.to_crs('epsg:4087')"
   ]
  },
  {
   "cell_type": "code",
   "execution_count": 6,
   "metadata": {},
   "outputs": [],
   "source": [
    "# Open ramsar areas\n",
    "ramsar_polys = gpd.read_file(os.path.join(\n",
    "    \"earthpy-downloads\", \"ramsar-site-data\", \"ramsar-boundaries\",\n",
    "    \"features_publishedPolygon.shp\"))\n",
    "\n",
    "# Rename ramsar columns to match WDPA\n",
    "try:\n",
    "    ramsar_polys = ramsar_polys.rename(\n",
    "        columns={\"iso3\": \"PARENT_ISO\", \"officialna\": \"NAME\", \"area_off\": \"Shape_Area\"})\n",
    "except:\n",
    "    print('Ramsar column names already match WDPA dataset.')\n",
    "\n",
    "# Merge continent names with ramsar data for analyzing by continent\n",
    "ramsar_polys = pd.merge(ramsar_polys, continent_iso,\n",
    "                        left_on='PARENT_ISO', right_on='ISO3')\n",
    "\n",
    "# Data cleaning - take only necessary ramsar columns\n",
    "ramsar_polys = ramsar_polys[['NAME', 'PARENT_ISO',\n",
    "                             'Shape_Area', 'continent', 'geometry']]\n",
    "\n",
    "# Reproject ramsar data to  World Equidistant Cylindrical, datum WGS84, units meters, EPSG 4087\n",
    "ramsar_polys = ramsar_polys.to_crs('epsg:4087')"
   ]
  },
  {
   "cell_type": "code",
   "execution_count": 7,
   "metadata": {},
   "outputs": [],
   "source": [
    "# Open current DOR shapefiles\n",
    "dor_0to5 = gpd.read_file(os.path.join(wd_path,\n",
    "                                      \"earthpy-downloads\", \"DOR_Binned\", \"DOR_0to5.shp\"))\n",
    "dor_5to10 = gpd.read_file(os.path.join(wd_path,\n",
    "                                       \"earthpy-downloads\", \"DOR_Binned\", \"DOR_5to10.shp\"))\n",
    "dor_10to15 = gpd.read_file(os.path.join(wd_path,\n",
    "                                        \"earthpy-downloads\", \"DOR_Binned\", \"DOR_10to15.shp\"))\n",
    "dor_15to20 = gpd.read_file(os.path.join(wd_path,\n",
    "                                        \"earthpy-downloads\", \"DOR_Binned\", \"DOR_15to20.shp\"))\n",
    "dor_over20 = gpd.read_file(os.path.join(wd_path,\n",
    "                                        \"earthpy-downloads\", \"DOR_Binned\", \"DOR_over20.shp\"))"
   ]
  },
  {
   "cell_type": "code",
   "execution_count": 8,
   "metadata": {},
   "outputs": [],
   "source": [
    "# Get all current rivers in selected continent\n",
    "all_rivers_0to5_africa = dor_0to5[dor_0to5['CONTINENT'] == \"Africa\"]\n",
    "all_rivers_5to10_africa = dor_5to10[dor_5to10['CONTINENT'] == \"Africa\"]\n",
    "all_rivers_10to15_africa = dor_10to15[dor_10to15['CONTINENT'] == \"Africa\"]\n",
    "all_rivers_15to20_africa = dor_15to20[dor_15to20['CONTINENT'] == \"Africa\"]\n",
    "all_rivers_over20_africa = dor_over20[dor_over20['CONTINENT'] == \"Africa\"]"
   ]
  },
  {
   "cell_type": "code",
   "execution_count": 9,
   "metadata": {},
   "outputs": [
    {
     "name": "stderr",
     "output_type": "stream",
     "text": [
      "/opt/conda/lib/python3.7/site-packages/ipykernel_launcher.py:9: SettingWithCopyWarning: \n",
      "A value is trying to be set on a copy of a slice from a DataFrame.\n",
      "Try using .loc[row_indexer,col_indexer] = value instead\n",
      "\n",
      "See the caveats in the documentation: https://pandas.pydata.org/pandas-docs/stable/user_guide/indexing.html#returning-a-view-versus-a-copy\n",
      "  if __name__ == '__main__':\n",
      "/opt/conda/lib/python3.7/site-packages/ipykernel_launcher.py:9: SettingWithCopyWarning: \n",
      "A value is trying to be set on a copy of a slice from a DataFrame.\n",
      "Try using .loc[row_indexer,col_indexer] = value instead\n",
      "\n",
      "See the caveats in the documentation: https://pandas.pydata.org/pandas-docs/stable/user_guide/indexing.html#returning-a-view-versus-a-copy\n",
      "  if __name__ == '__main__':\n",
      "/opt/conda/lib/python3.7/site-packages/ipykernel_launcher.py:9: SettingWithCopyWarning: \n",
      "A value is trying to be set on a copy of a slice from a DataFrame.\n",
      "Try using .loc[row_indexer,col_indexer] = value instead\n",
      "\n",
      "See the caveats in the documentation: https://pandas.pydata.org/pandas-docs/stable/user_guide/indexing.html#returning-a-view-versus-a-copy\n",
      "  if __name__ == '__main__':\n",
      "/opt/conda/lib/python3.7/site-packages/ipykernel_launcher.py:9: SettingWithCopyWarning: \n",
      "A value is trying to be set on a copy of a slice from a DataFrame.\n",
      "Try using .loc[row_indexer,col_indexer] = value instead\n",
      "\n",
      "See the caveats in the documentation: https://pandas.pydata.org/pandas-docs/stable/user_guide/indexing.html#returning-a-view-versus-a-copy\n",
      "  if __name__ == '__main__':\n",
      "/opt/conda/lib/python3.7/site-packages/ipykernel_launcher.py:9: SettingWithCopyWarning: \n",
      "A value is trying to be set on a copy of a slice from a DataFrame.\n",
      "Try using .loc[row_indexer,col_indexer] = value instead\n",
      "\n",
      "See the caveats in the documentation: https://pandas.pydata.org/pandas-docs/stable/user_guide/indexing.html#returning-a-view-versus-a-copy\n",
      "  if __name__ == '__main__':\n"
     ]
    }
   ],
   "source": [
    "# For loop to (1) calculating difference in DOR between planned and current, (2) pulling only rivers with class > 3,\n",
    "# (3) projecting rivers, (4) buffer by 1/100 km to become polys for overlay fuction, (5) pull only needed columns\n",
    "\n",
    "gdf_list = [all_rivers_0to5_africa, all_rivers_5to10_africa,\n",
    "            all_rivers_10to15_africa, all_rivers_15to20_africa, all_rivers_over20_africa]\n",
    "river_list_prj = []\n",
    "\n",
    "for shp in gdf_list:\n",
    "    shp['DOR_DIFF'] = shp['DOR_PLA'] - shp['DOR']\n",
    "    shp = shp[shp.RIV_CLASS > 3]\n",
    "    shp = shp.to_crs('epsg:4087')\n",
    "    shp['geometry'] = shp.buffer(100)\n",
    "    shp = shp[['LENGTH_KM', 'RIV_ORD', 'RIV_CLASS', 'CONTINENT',\n",
    "               'ISO_NAME', 'BAS_NAME', 'DOR', 'DOR_PLA', 'DOR_DIFF', 'Shape_Leng', 'geometry']]\n",
    "    river_list_prj.append(shp)\n",
    "\n",
    "# Re-assign names based on list index\n",
    "dor_0to5 = river_list_prj[0]\n",
    "dor_5to10 = river_list_prj[1]\n",
    "dor_10to15 = river_list_prj[2]\n",
    "dor_15to20 = river_list_prj[3]\n",
    "dor_over20 = river_list_prj[4]\n",
    "\n",
    "# Concatanate all rivers gdfs for easier analysis later\n",
    "all_rivers = pd.concat([dor_0to5, dor_5to10, dor_10to15,\n",
    "                        dor_15to20, dor_over20], axis=0)\n",
    "\n",
    "# Remove rivers that have DOR_DIFF of 0\n",
    "all_rivers_lg = all_rivers[all_rivers.DOR_DIFF > 0]"
   ]
  },
  {
   "cell_type": "code",
   "execution_count": 10,
   "metadata": {},
   "outputs": [],
   "source": [
    "# Analyze Africa\n",
    "wdpa_africa_polys = gpd.read_file(os.path.join(wd_path,\n",
    "                                               \"earthpy-downloads\", \"WDPA_Africa\", \"WDPA_Africa.shp\"))\n",
    "\n",
    "# Data cleaning - remove polygons with no area & take only the needed columns from WDPA dataset\n",
    "wdpa_africa_polys = wdpa_africa_polys[wdpa_africa_polys.geometry != None]\n",
    "\n",
    "# Merge continent africames with WDPA data for aafricalyzing by continent\n",
    "wdpa_africa_polys = pd.merge(wdpa_africa_polys, continent_iso,\n",
    "                             left_on='PARENT_ISO', right_on='ISO3')\n",
    "\n",
    "# Take only the columns we need\n",
    "wdpa_africa_polys = wdpa_africa_polys[[\n",
    "    'NAME', 'DESIG', 'PARENT_ISO', 'GIS_AREA', 'continent', 'geometry']]\n",
    "\n",
    "# Reporject WDPA data\n",
    "wdpa_africa_polys = wdpa_africa_polys.to_crs('epsg:4087')\n",
    "\n",
    "# Get the combined WDPA & ramsar areas for selected continent\n",
    "wdpa_ramsar_africa = all_pa_continent(\n",
    "    wdpa_africa_polys, ramsar_polys, \"Africa\")\n",
    "\n",
    "# Getting river length affected\n",
    "# Overlay current rivers on protected areas for selected continent to get ONLY rivers the overlap PAs\n",
    "river_overlap_africa = gpd.overlay(\n",
    "    wdpa_ramsar_africa, all_rivers_lg, how='intersection')\n",
    "\n",
    "# Getting protected areas affected\n",
    "# Overlay projected rivers on pas for selected continent to get ONLY pas that overlap rivers\n",
    "pa_overlap_africa = gpd.overlay(\n",
    "    river_overlap_africa, wdpa_ramsar_africa, how='intersection')\n",
    "\n",
    "# Get a list of countries in each continent for calculating lengths/areas by country later\n",
    "africa_countries = continent_iso[continent_iso.continent == 'Africa']\n",
    "\n",
    "# Create empty lists\n",
    "country_sums = []\n",
    "area_sums = []\n",
    "countries = []\n",
    "\n",
    "# Sum up the total river length affected by country in the continent\n",
    "for country in africa_countries.ISO3:\n",
    "    country_sums.append((\n",
    "        river_overlap_africa.loc[river_overlap_africa['PARENT_ISO'] == country, 'LENGTH_KM'].sum()).round(0))\n",
    "    area_sums.append((\n",
    "        pa_overlap_africa.loc[pa_overlap_africa['PARENT_ISO_1'] == country, 'Shape_Area_1'].sum()).round(0))\n",
    "    countries.append(country)\n",
    "\n",
    " # Create a pandas dataframe of lengths and areas affected\n",
    "africa_output = pd.DataFrame(list(zip(countries, country_sums, area_sums)), columns=[\n",
    "    'Country', 'Affected_KM', 'Affected_Area'])"
   ]
  },
  {
   "cell_type": "code",
   "execution_count": 11,
   "metadata": {},
   "outputs": [
    {
     "data": {
      "text/html": [
       "<div>\n",
       "<style scoped>\n",
       "    .dataframe tbody tr th:only-of-type {\n",
       "        vertical-align: middle;\n",
       "    }\n",
       "\n",
       "    .dataframe tbody tr th {\n",
       "        vertical-align: top;\n",
       "    }\n",
       "\n",
       "    .dataframe thead th {\n",
       "        text-align: right;\n",
       "    }\n",
       "</style>\n",
       "<table border=\"1\" class=\"dataframe\">\n",
       "  <thead>\n",
       "    <tr style=\"text-align: right;\">\n",
       "      <th></th>\n",
       "      <th>Country</th>\n",
       "      <th>Affected_KM</th>\n",
       "      <th>Affected_Area</th>\n",
       "    </tr>\n",
       "  </thead>\n",
       "  <tbody>\n",
       "    <tr>\n",
       "      <th>0</th>\n",
       "      <td>DZA</td>\n",
       "      <td>0.0</td>\n",
       "      <td>0.0</td>\n",
       "    </tr>\n",
       "    <tr>\n",
       "      <th>1</th>\n",
       "      <td>AGO</td>\n",
       "      <td>12.0</td>\n",
       "      <td>0.0</td>\n",
       "    </tr>\n",
       "    <tr>\n",
       "      <th>2</th>\n",
       "      <td>BEN</td>\n",
       "      <td>72.0</td>\n",
       "      <td>28734737.0</td>\n",
       "    </tr>\n",
       "    <tr>\n",
       "      <th>3</th>\n",
       "      <td>BWA</td>\n",
       "      <td>0.0</td>\n",
       "      <td>0.0</td>\n",
       "    </tr>\n",
       "    <tr>\n",
       "      <th>4</th>\n",
       "      <td>IOT</td>\n",
       "      <td>0.0</td>\n",
       "      <td>0.0</td>\n",
       "    </tr>\n",
       "  </tbody>\n",
       "</table>\n",
       "</div>"
      ],
      "text/plain": [
       "  Country  Affected_KM  Affected_Area\n",
       "0     DZA          0.0            0.0\n",
       "1     AGO         12.0            0.0\n",
       "2     BEN         72.0     28734737.0\n",
       "3     BWA          0.0            0.0\n",
       "4     IOT          0.0            0.0"
      ]
     },
     "execution_count": 11,
     "metadata": {},
     "output_type": "execute_result"
    }
   ],
   "source": [
    "africa_output.head()"
   ]
  },
  {
   "cell_type": "code",
   "execution_count": 12,
   "metadata": {},
   "outputs": [
    {
     "data": {
      "text/html": [
       "<div>\n",
       "<style scoped>\n",
       "    .dataframe tbody tr th:only-of-type {\n",
       "        vertical-align: middle;\n",
       "    }\n",
       "\n",
       "    .dataframe tbody tr th {\n",
       "        vertical-align: top;\n",
       "    }\n",
       "\n",
       "    .dataframe thead th {\n",
       "        text-align: right;\n",
       "    }\n",
       "</style>\n",
       "<table border=\"1\" class=\"dataframe\">\n",
       "  <thead>\n",
       "    <tr style=\"text-align: right;\">\n",
       "      <th></th>\n",
       "      <th>Country</th>\n",
       "      <th>Affected_KM</th>\n",
       "      <th>Affected_Area</th>\n",
       "    </tr>\n",
       "  </thead>\n",
       "  <tbody>\n",
       "    <tr>\n",
       "      <th>1</th>\n",
       "      <td>AGO</td>\n",
       "      <td>12.0</td>\n",
       "      <td>0.000000e+00</td>\n",
       "    </tr>\n",
       "    <tr>\n",
       "      <th>2</th>\n",
       "      <td>BEN</td>\n",
       "      <td>72.0</td>\n",
       "      <td>2.873474e+07</td>\n",
       "    </tr>\n",
       "    <tr>\n",
       "      <th>8</th>\n",
       "      <td>CMR</td>\n",
       "      <td>86.0</td>\n",
       "      <td>0.000000e+00</td>\n",
       "    </tr>\n",
       "    <tr>\n",
       "      <th>12</th>\n",
       "      <td>COG</td>\n",
       "      <td>6.0</td>\n",
       "      <td>0.000000e+00</td>\n",
       "    </tr>\n",
       "    <tr>\n",
       "      <th>13</th>\n",
       "      <td>COD</td>\n",
       "      <td>1549.0</td>\n",
       "      <td>1.714672e+09</td>\n",
       "    </tr>\n",
       "  </tbody>\n",
       "</table>\n",
       "</div>"
      ],
      "text/plain": [
       "   Country  Affected_KM  Affected_Area\n",
       "1      AGO         12.0   0.000000e+00\n",
       "2      BEN         72.0   2.873474e+07\n",
       "8      CMR         86.0   0.000000e+00\n",
       "12     COG          6.0   0.000000e+00\n",
       "13     COD       1549.0   1.714672e+09"
      ]
     },
     "execution_count": 12,
     "metadata": {},
     "output_type": "execute_result"
    }
   ],
   "source": [
    "africa_affected = africa_output[africa_output.Affected_KM != 0]\n",
    "\n",
    "africa_affected.head()"
   ]
  },
  {
   "cell_type": "code",
   "execution_count": 14,
   "metadata": {},
   "outputs": [
    {
     "data": {
      "text/plain": [
       "Text(0.5, -0.1, 'Data Source: Free Flowing Rivers Database')"
      ]
     },
     "execution_count": 14,
     "metadata": {},
     "output_type": "execute_result"
    },
    {
     "data": {
      "image/png": "[encoded data removed]",
      "text/plain": [
       "<Figure size 1080x720 with 1 Axes>"
      ]
     },
     "metadata": {},
     "output_type": "display_data"
    }
   ],
   "source": [
    "# Create Graph\n",
    "# use white grid plot background from seaborn\n",
    "sns.set(font_scale=1.5, style='whitegrid')\n",
    "\n",
    "fig, ax = plt.subplots(figsize=(15, 10))\n",
    "ax.bar(africa_affected[\"Country\"],\n",
    "        africa_affected[\"Affected_KM\"], color='blue', label=\"River Length\")\n",
    "plt.legend(loc=\"upper left\")\n",
    "ax.set(title=\"Length of Potential River Reaches impacted by Future Dam Construction\\nAfrica\",\n",
    "       xlabel=\"Country\", ylabel=\"Kilometers\")\n",
    "ax.text(0.5, -0.1,\n",
    "        \"Data Source: Free Flowing Rivers Database\",\n",
    "        size=12,\n",
    "        ha=\"center\",\n",
    "        transform=ax.transAxes)"
   ]
  },
  {
   "cell_type": "code",
   "execution_count": 15,
   "metadata": {},
   "outputs": [
    {
     "data": {
      "text/plain": [
       "Text(0.5, -0.1, 'Data Source: World Database of Protected Areas and Ramsar Site Database')"
      ]
     },
     "execution_count": 15,
     "metadata": {},
     "output_type": "execute_result"
    },
    {
     "data": {
      "image/png": "[encoded data removed]",
      "text/plain": [
       "<Figure size 1080x720 with 1 Axes>"
      ]
     },
     "metadata": {},
     "output_type": "display_data"
    }
   ],
   "source": [
    "# Create Graph\n",
    "# use white grid plot background from seaborn\n",
    "sns.set(font_scale=1.5, style='whitegrid')\n",
    "\n",
    "fig, ax = plt.subplots(figsize=(15, 10))\n",
    "ax.bar(africa_affected[\"Country\"],\n",
    "        africa_affected[\"Affected_Area\"], color='orange', label=\"Land Area\")\n",
    "plt.legend(loc=\"upper left\")\n",
    "ax.set(title=\"Potential Protected Areas impacted by Future Dam Construction\\nAfrica\",\n",
    "       xlabel=\"Country\", ylabel=\"Square Meters\")\n",
    "ax.text(0.5, -0.1,\n",
    "        \"Data Source: World Database of Protected Areas and Ramsar Site Database\",\n",
    "        size=12,\n",
    "        ha=\"center\",\n",
    "        transform=ax.transAxes)"
   ]
  },
  {
   "cell_type": "code",
   "execution_count": null,
   "metadata": {},
   "outputs": [],
   "source": [
    "# Get continent border for plotting\n",
    "africa_border = continent_borders[continent_borders['CONTINENT'] == \"Africa\"]\n",
    "\n",
    "# Buffer rivers for nicer map\n",
    "dor_0to5 = dor_0to5.buffer(5000)\n",
    "dor_5to10 = dor_5to10.buffer(5000)\n",
    "dor_10to15 = dor_10to15.buffer(5000)\n",
    "dor_15to20 = dor_15to20.buffer(5000)\n",
    "dor_over20 = dor_over20.buffer(5000)"
   ]
  },
  {
   "cell_type": "code",
   "execution_count": null,
   "metadata": {},
   "outputs": [],
   "source": [
    "# Plot all rivers and all protected areas for selected continent\n",
    "# Create legend\n",
    "black_line = mlines.Line2D([], [], color='black', label='Country Border')\n",
    "blue_line = mlines.Line2D([], [], color='blue', label='0 to 5')\n",
    "yellow_line = mlines.Line2D([], [], color='yellow', label='5 to 10')\n",
    "orange_line = mlines.Line2D([], [], color='orange', label='10 to 15')\n",
    "red_line = mlines.Line2D([], [], color='red', label='15 to 20')\n",
    "magenta_line = mlines.Line2D([], [], color='magenta', label='20 plus')\n",
    "lightgreen_patch = mpatches.Patch(color='lightgreen', label='Protected Area')\n",
    "\n",
    "fig, ax = plt.subplots(figsize=(15, 15))\n",
    "africa_border.plot(ax=ax, color=\"none\",  edgecolor=\"black\", linewidth=2)\n",
    "wdpa_ramsar_africa.plot(ax=ax, color=\"lightgreen\", edgecolor='none')\n",
    "dor_0to5.plot(ax=ax,\n",
    "              color='blue', edgecolor='none')\n",
    "dor_5to10.plot(ax=ax,\n",
    "               color='yellow', edgecolor='none')\n",
    "dor_10to15.plot(ax=ax,\n",
    "                color='orange', edgecolor='none')\n",
    "dor_15to20.plot(ax=ax,\n",
    "                color='red', edgecolor='none')\n",
    "dor_over20.plot(ax=ax,\n",
    "                color='magenta', edgecolor='none')\n",
    "ctx.add_basemap(ax, url=ctx.providers.Stamen.Terrain, zoom=0)\n",
    "ax.set_title(\n",
    "    'Figure 1: All Protected Areas\\n And Large Rivers (Class > 3) by Degree of Regulation in Africa', size=20)\n",
    "ax.set_axis_off()\n",
    "ax.legend(handles=[black_line, blue_line, yellow_line, orange_line, red_line, magenta_line, lightgreen_patch],\n",
    "          fontsize=15,\n",
    "          frameon=True,\n",
    "          loc=('lower right'),\n",
    "          title=\"LEGEND\")"
   ]
  },
  {
   "cell_type": "code",
   "execution_count": null,
   "metadata": {},
   "outputs": [],
   "source": []
  }
 ],
 "metadata": {
  "kernelspec": {
   "display_name": "Python 3",
   "language": "python",
   "name": "python3"
  },
  "language_info": {
   "codemirror_mode": {
    "name": "ipython",
    "version": 3
   },
   "file_extension": ".py",
   "mimetype": "text/x-python",
   "name": "python",
   "nbconvert_exporter": "python",
   "pygments_lexer": "ipython3",
   "version": "3.7.6"
  },
  "toc": {
   "base_numbering": 1,
   "nav_menu": {},
   "number_sections": true,
   "sideBar": true,
   "skip_h1_title": false,
   "title_cell": "Table of Contents",
   "title_sidebar": "Contents",
   "toc_cell": false,
   "toc_position": {},
   "toc_section_display": true,
   "toc_window_display": false
  }
 },
 "nbformat": 4,
 "nbformat_minor": 4
}
