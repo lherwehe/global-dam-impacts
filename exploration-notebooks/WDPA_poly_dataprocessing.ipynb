{
 "cells": [
  {
   "cell_type": "code",
   "execution_count": 2,
   "metadata": {},
   "outputs": [],
   "source": [
    "# Imports\n",
    "import warnings\n",
    "import os\n",
    "import sys\n",
    "\n",
    "import numpy as np\n",
    "import numpy.ma as ma\n",
    "import pandas as pd\n",
    "\n",
    "import matplotlib.pyplot as plt\n",
    "import matplotlib.patches as mpatches\n",
    "import matplotlib.lines as mlines\n",
    "\n",
    "import geopandas as gpd\n",
    "from geopandas import GeoDataFrame as gdf\n",
    "from geopandas import GeoSeries as gs\n",
    "from shapely.geometry import Point, Polygon\n",
    "\n",
    "import contextily as ctx\n",
    "import earthpy as et\n",
    "import earthpy.plot as ep\n",
    "from earthpy import clip as cl"
   ]
  },
  {
   "cell_type": "code",
   "execution_count": 3,
   "metadata": {},
   "outputs": [],
   "source": [
    "# Check path and set working directory.\n",
    "wd_path = os.path.join(et.io.HOME, 'earth-analytics', 'data')\n",
    "if os.path.exists(wd_path):\n",
    "    os.chdir(wd_path)\n",
    "else:\n",
    "    print(\"Path does not exist\")"
   ]
  },
  {
   "cell_type": "code",
   "execution_count": 3,
   "metadata": {},
   "outputs": [
    {
     "data": {
      "text/plain": [
       "'/home/jovyan/earth-analytics/data/earthpy-downloads/ramsar-site-data'"
      ]
     },
     "execution_count": 3,
     "metadata": {},
     "output_type": "execute_result"
    }
   ],
   "source": [
    "# Download Data stored on figshare\n",
    "# # Wdpa polygon files\n",
    "# et.data.get_data(url=\"https://ndownloader.figshare.com/files/22847264\")\n",
    "\n",
    "# Free flowing rivers dataset\n",
    "et.data.get_data(url=\"https://ndownloader.figshare.com/files/22936541\")\n",
    "\n",
    "# Future dams\n",
    "et.data.get_data(url=\"https://ndownloader.figshare.com/files/22486157\")\n",
    "\n",
    "# Ramsar Sites\n",
    "et.data.get_data(url=\"https://ndownloader.figshare.com/files/22507082\")"
   ]
  },
  {
   "cell_type": "code",
   "execution_count": 5,
   "metadata": {},
   "outputs": [],
   "source": [
    "# Define the path to files\n",
    "wdpa_polys_path = os.path.join(wd_path,\n",
    "    \"earthpy-downloads\", \"WDPA_Apr2020-shapefile-polygons\", \"WDPA_Apr2020-shapefile-polygons.shp\")\n",
    "\n",
    "ffr_0to5_path = os.path.join(wd_path,\n",
    "    \"earthpy-downloads\", \"FFR_DOR_shapefiles\", \"FFR_DOR_0to5.shp\")\n",
    "\n",
    "ffr_5to10_path = os.path.join(wd_path,\n",
    "    \"earthpy-downloads\", \"FFR_DOR_shapefiles\", \"FFR_DOR_5to10.shp\")\n",
    "\n",
    "ffr_10to20_path = os.path.join(wd_path,\n",
    "    \"earthpy-downloads\", \"FFR_DOR_shapefiles\", \"FFR_DOR_10to20.shp\")\n",
    "\n",
    "ffr_20plus_path = os.path.join(wd_path,\n",
    "    \"earthpy-downloads\", \"FFR_DOR_shapefiles\", \"FFR_DOR_20plus.shp\")\n",
    "\n",
    "country_borders_path = os.path.join(wd_path, \"earthpy-downloads\", \"country-borders\",\n",
    "                                    \"99bfd9e7-bb42-4728-87b5-07f8c8ac631c2020328-1-1vef4ev.lu5nk.shp\")\n",
    "\n",
    "ramsar_all = gpd.read_file(os.path.join(wd_path,\n",
    "    \"earthpy-downloads\", \"ramsar-site-data\", \"ramsar-boundaries\",\n",
    "    \"features_publishedPolygon.shp\"))\n",
    "\n",
    "# Open the dams csv files with pandas\n",
    "dams_source_path = os.path.join(\"earthpy-downloads\", \"future_dams_2015.csv\")\n",
    "dams_df = pd.read_csv(dams_source_path)\n",
    "\n",
    "# Covert the pandas dataframe to a shapefile for plotting and set output path\n",
    "dams_path = os.path.join('fhred-proposed-dams')\n",
    "if not os.path.exists(dams_path):\n",
    "    os.mkdir(dams_path)"
   ]
  },
  {
   "cell_type": "code",
   "execution_count": null,
   "metadata": {},
   "outputs": [],
   "source": [
    "# Open the shapefiles with geopandas\n",
    "wdpa_polys = gpd.read_file(wdpa_polys_path)\n",
    "ffr_0to5 = gpd.read_file(ffr_0to5_path)\n",
    "ffr_5to10 = gpd.read_file(ffr_5to10_path)\n",
    "ffr_10to20 = gpd.read_file(ffr_10to20_path)\n",
    "ffr_20plus = gpd.read_file(ffr_20plus_path)"
   ]
  },
  {
   "cell_type": "code",
   "execution_count": null,
   "metadata": {},
   "outputs": [],
   "source": [
    "# Project wdpa polys\n",
    "wdpa_polys = wdpa_polys.to_crs('epsg:4087')\n",
    "\n",
    "# Project ffr data\n",
    "ffr_0to5 = ffr_0to5.to_crs('epsg:4087')\n",
    "ffr_5to10 = ffr_5to10.to_crs('epsg:4087')\n",
    "ffr_10to20 = ffr_10to20.to_crs('epsg:4087')\n",
    "ffr_20plus = ffr_20plus.to_crs('epsg:4087')"
   ]
  },
  {
   "cell_type": "markdown",
   "metadata": {},
   "source": [
    "note about crs\n",
    "World Equidistant Cylindrical, datum WGS84, units meters, EPSG 4087\n"
   ]
  },
  {
   "cell_type": "code",
   "execution_count": null,
   "metadata": {},
   "outputs": [],
   "source": [
    "# Define the geometry for the points\n",
    "geometry = [Point(xy) for xy in zip(dams_df.Lon_Cleaned, dams_df.LAT_cleaned)]\n",
    "crs = {'init': 'epsg:4087'}\n",
    "geo_df = gdf(dams_df, crs=crs, geometry=geometry)\n",
    "geo_df.to_file(driver='ESRI Shapefile', filename=os.path.join(\n",
    "    dams_path, 'proposed_dams.shp'))"
   ]
  },
  {
   "cell_type": "code",
   "execution_count": null,
   "metadata": {},
   "outputs": [],
   "source": [
    "# Open the proposed dams shapefile with geopandas\n",
    "proposed_dams = gpd.read_file(os.path.join(dams_path, \"proposed_dams.shp\"))"
   ]
  },
  {
   "cell_type": "code",
   "execution_count": null,
   "metadata": {},
   "outputs": [],
   "source": [
    "# 50 km buffer\n",
    "proposed_dams['geometry'] = proposed_dams.buffer(50 * 1000)\n",
    "\n",
    "# overlay to cut to only dams and wdpa sites that overlap eachother\n",
    "data_intersect_50 = gpd.overlay(wdpa_polys, proposed_dams, how='intersection')\n",
    "\n",
    "\n",
    "# # Clip the proposed dams to the wdpa polys\n",
    "# proposed_dams_cl = cl.clip_shp(proposed_dams, wdpa_polys)\n",
    "\n",
    "# wdpa_buffer_50 = ((data_intersect_50.area.sum())/1000000).round(1)"
   ]
  },
  {
   "cell_type": "code",
   "execution_count": null,
   "metadata": {},
   "outputs": [],
   "source": [
    "fig, ax = plt.subplots(figsize=(15, 25))\n",
    "country_borders.plot(ax=ax, color=\"lightyellow\",\n",
    "                     edgecolor=\"black\", linewidth=2)\n",
    "proposed_dams.plot(ax=ax,\n",
    "                   markersize=15,\n",
    "                   color='red', legend=True)"
   ]
  },
  {
   "cell_type": "code",
   "execution_count": null,
   "metadata": {},
   "outputs": [],
   "source": []
  }
 ],
 "metadata": {
  "kernelspec": {
   "display_name": "Python 3",
   "language": "python",
   "name": "python3"
  },
  "language_info": {
   "codemirror_mode": {
    "name": "ipython",
    "version": 3
   },
   "file_extension": ".py",
   "mimetype": "text/x-python",
   "name": "python",
   "nbconvert_exporter": "python",
   "pygments_lexer": "ipython3",
   "version": "3.7.6"
  },
  "toc": {
   "base_numbering": 1,
   "nav_menu": {},
   "number_sections": true,
   "sideBar": true,
   "skip_h1_title": false,
   "title_cell": "Table of Contents",
   "title_sidebar": "Contents",
   "toc_cell": false,
   "toc_position": {},
   "toc_section_display": true,
   "toc_window_display": false
  }
 },
 "nbformat": 4,
 "nbformat_minor": 4
}
